{
  "nbformat": 4,
  "nbformat_minor": 0,
  "metadata": {
    "colab": {
      "name": "IPL_T20_Analysis_final_Team.ipynb",
      "provenance": [],
      "include_colab_link": true
    },
    "kernelspec": {
      "name": "python3",
      "display_name": "Python 3"
    },
    "language_info": {
      "name": "python"
    }
  },
  "cells": [
    {
      "cell_type": "markdown",
      "metadata": {
        "id": "view-in-github",
        "colab_type": "text"
      },
      "source": [
        "<a href=\"https://colab.research.google.com/github/surya4331/surya4331-Capstone_Project_IPL_T20_Analysis/blob/main/IPL_T20_Analysis_final_Team.ipynb\" target=\"_parent\"><img src=\"https://colab.research.google.com/assets/colab-badge.svg\" alt=\"Open In Colab\"/></a>"
      ]
    },
    {
      "cell_type": "markdown",
      "metadata": {
        "id": "I6xJ-vhaJ6nd"
      },
      "source": [
        "## <b> Indian Premier League(IPL) is a professional Twenty20 cricket league in India contested during March or April and May of every year by eight teams representing eight different cities in India. The league was founded by the Board of Control for Cricket in India(BCCI) in 2008. </b>\n",
        "\n",
        "## <b> Explore and analyze the data to discover results and statistics for different teams playing in IPL. </b>\n"
      ]
    },
    {
      "cell_type": "markdown",
      "metadata": {
        "id": "MGOsgDRDy6HC"
      },
      "source": [
        "#**IPL ANALYSIS**\n",
        "This is IPL's data containing 3 datasets - one gives details about the matches and   2nd one about delivers of the league from(2008-2018), 3rd onegives info about teams. Here we try to get an overview of IPL in terms of teams, venues, matches, batsmen and bowlers."
      ]
    },
    {
      "cell_type": "markdown",
      "metadata": {
        "id": "XLGxqDsKP9w9"
      },
      "source": [
        "#**PROBLEM STATEMENTS.**\n",
        "\n",
        "\n",
        "1.  Most number of Man of the Matches in each season.\n",
        "2.   Highest winning margin in terms of runs and wickets in every year.\n",
        "3.Highest sum of score by team's in each season?\n",
        "4.Is scoring over the years is easy?\n",
        "5.BEST BOWLERS in terms of number of wickets.\n",
        "6.BEST BOWLING team in terms of economy.\n",
        "7.After winning toss batting or fielding is favour for winning match\n",
        "8.Toss winning team choose to field or bat?\n",
        "\n",
        "\n",
        "\n"
      ]
    },
    {
      "cell_type": "code",
      "metadata": {
        "id": "-cNQQpLMJ40k"
      },
      "source": [
        "#loading packages\n",
        "import numpy as np\n",
        "import pandas as pd\n",
        "import matplotlib.pyplot as plt\n",
        "%matplotlib inline\n",
        "import seaborn as sns\n",
        "from scipy import stats\n",
        "import math"
      ],
      "execution_count": null,
      "outputs": []
    },
    {
      "cell_type": "code",
      "metadata": {
        "colab": {
          "base_uri": "https://localhost:8080/"
        },
        "id": "e5FvPOJJKLrv",
        "outputId": "c9da3757-4b0d-4e6c-b0bc-dde77a209c9e"
      },
      "source": [
        "from google.colab import drive\n",
        "drive.mount('/content/drive')"
      ],
      "execution_count": null,
      "outputs": [
        {
          "output_type": "stream",
          "text": [
            "Mounted at /content/drive\n"
          ],
          "name": "stdout"
        }
      ]
    },
    {
      "cell_type": "markdown",
      "metadata": {
        "id": "pMsS5nAr0kIQ"
      },
      "source": [
        "#**Loading Data's**\n",
        "\n",
        "*   Matches Data set : This dataset contains information about the venues, players, umpires, toss decisions in 696 matches of IPL from 2008 - 2018.\n",
        "*   Delivery Data set: This dataset contains ball-by-ball information about 696 matches of IPL from 2008 - 2018.\n",
        "*   Teams Data set: This data set contains team information from ipl 2008-2019.   \n",
        "\n"
      ]
    },
    {
      "cell_type": "code",
      "metadata": {
        "id": "eoCWD9-mKX8-"
      },
      "source": [
        "delivery_df=pd.read_csv('/content/drive/MyDrive/deliveries.csv')\n",
        "matches_df=pd.read_csv('/content/drive/MyDrive/matches.csv')\n",
        "teams_df=pd.read_csv('/content/drive/MyDrive/teams.csv')"
      ],
      "execution_count": null,
      "outputs": []
    },
    {
      "cell_type": "code",
      "metadata": {
        "colab": {
          "base_uri": "https://localhost:8080/",
          "height": 323
        },
        "id": "FpgJ_4lyLawr",
        "outputId": "82bcd9b8-aa9b-4bbe-ceb1-b19782b7f2ce"
      },
      "source": [
        "matches_df.head(5)"
      ],
      "execution_count": null,
      "outputs": [
        {
          "output_type": "execute_result",
          "data": {
            "text/html": [
              "<div>\n",
              "<style scoped>\n",
              "    .dataframe tbody tr th:only-of-type {\n",
              "        vertical-align: middle;\n",
              "    }\n",
              "\n",
              "    .dataframe tbody tr th {\n",
              "        vertical-align: top;\n",
              "    }\n",
              "\n",
              "    .dataframe thead th {\n",
              "        text-align: right;\n",
              "    }\n",
              "</style>\n",
              "<table border=\"1\" class=\"dataframe\">\n",
              "  <thead>\n",
              "    <tr style=\"text-align: right;\">\n",
              "      <th></th>\n",
              "      <th>id</th>\n",
              "      <th>Season</th>\n",
              "      <th>city</th>\n",
              "      <th>date</th>\n",
              "      <th>team1</th>\n",
              "      <th>team2</th>\n",
              "      <th>toss_winner</th>\n",
              "      <th>toss_decision</th>\n",
              "      <th>result</th>\n",
              "      <th>dl_applied</th>\n",
              "      <th>winner</th>\n",
              "      <th>win_by_runs</th>\n",
              "      <th>win_by_wickets</th>\n",
              "      <th>player_of_match</th>\n",
              "      <th>venue</th>\n",
              "      <th>umpire1</th>\n",
              "      <th>umpire2</th>\n",
              "      <th>umpire3</th>\n",
              "    </tr>\n",
              "  </thead>\n",
              "  <tbody>\n",
              "    <tr>\n",
              "      <th>0</th>\n",
              "      <td>1</td>\n",
              "      <td>IPL-2017</td>\n",
              "      <td>Hyderabad</td>\n",
              "      <td>05-04-2017</td>\n",
              "      <td>Sunrisers Hyderabad</td>\n",
              "      <td>Royal Challengers Bangalore</td>\n",
              "      <td>Royal Challengers Bangalore</td>\n",
              "      <td>field</td>\n",
              "      <td>normal</td>\n",
              "      <td>0</td>\n",
              "      <td>Sunrisers Hyderabad</td>\n",
              "      <td>35</td>\n",
              "      <td>0</td>\n",
              "      <td>Yuvraj Singh</td>\n",
              "      <td>Rajiv Gandhi International Stadium, Uppal</td>\n",
              "      <td>AY Dandekar</td>\n",
              "      <td>NJ Llong</td>\n",
              "      <td>NaN</td>\n",
              "    </tr>\n",
              "    <tr>\n",
              "      <th>1</th>\n",
              "      <td>2</td>\n",
              "      <td>IPL-2017</td>\n",
              "      <td>Pune</td>\n",
              "      <td>06-04-2017</td>\n",
              "      <td>Mumbai Indians</td>\n",
              "      <td>Rising Pune Supergiant</td>\n",
              "      <td>Rising Pune Supergiant</td>\n",
              "      <td>field</td>\n",
              "      <td>normal</td>\n",
              "      <td>0</td>\n",
              "      <td>Rising Pune Supergiant</td>\n",
              "      <td>0</td>\n",
              "      <td>7</td>\n",
              "      <td>SPD Smith</td>\n",
              "      <td>Maharashtra Cricket Association Stadium</td>\n",
              "      <td>A Nand Kishore</td>\n",
              "      <td>S Ravi</td>\n",
              "      <td>NaN</td>\n",
              "    </tr>\n",
              "    <tr>\n",
              "      <th>2</th>\n",
              "      <td>3</td>\n",
              "      <td>IPL-2017</td>\n",
              "      <td>Rajkot</td>\n",
              "      <td>07-04-2017</td>\n",
              "      <td>Gujarat Lions</td>\n",
              "      <td>Kolkata Knight Riders</td>\n",
              "      <td>Kolkata Knight Riders</td>\n",
              "      <td>field</td>\n",
              "      <td>normal</td>\n",
              "      <td>0</td>\n",
              "      <td>Kolkata Knight Riders</td>\n",
              "      <td>0</td>\n",
              "      <td>10</td>\n",
              "      <td>CA Lynn</td>\n",
              "      <td>Saurashtra Cricket Association Stadium</td>\n",
              "      <td>Nitin Menon</td>\n",
              "      <td>CK Nandan</td>\n",
              "      <td>NaN</td>\n",
              "    </tr>\n",
              "    <tr>\n",
              "      <th>3</th>\n",
              "      <td>4</td>\n",
              "      <td>IPL-2017</td>\n",
              "      <td>Indore</td>\n",
              "      <td>08-04-2017</td>\n",
              "      <td>Rising Pune Supergiant</td>\n",
              "      <td>Kings XI Punjab</td>\n",
              "      <td>Kings XI Punjab</td>\n",
              "      <td>field</td>\n",
              "      <td>normal</td>\n",
              "      <td>0</td>\n",
              "      <td>Kings XI Punjab</td>\n",
              "      <td>0</td>\n",
              "      <td>6</td>\n",
              "      <td>GJ Maxwell</td>\n",
              "      <td>Holkar Cricket Stadium</td>\n",
              "      <td>AK Chaudhary</td>\n",
              "      <td>C Shamshuddin</td>\n",
              "      <td>NaN</td>\n",
              "    </tr>\n",
              "    <tr>\n",
              "      <th>4</th>\n",
              "      <td>5</td>\n",
              "      <td>IPL-2017</td>\n",
              "      <td>Bangalore</td>\n",
              "      <td>08-04-2017</td>\n",
              "      <td>Royal Challengers Bangalore</td>\n",
              "      <td>Delhi Daredevils</td>\n",
              "      <td>Royal Challengers Bangalore</td>\n",
              "      <td>bat</td>\n",
              "      <td>normal</td>\n",
              "      <td>0</td>\n",
              "      <td>Royal Challengers Bangalore</td>\n",
              "      <td>15</td>\n",
              "      <td>0</td>\n",
              "      <td>KM Jadhav</td>\n",
              "      <td>M Chinnaswamy Stadium</td>\n",
              "      <td>NaN</td>\n",
              "      <td>NaN</td>\n",
              "      <td>NaN</td>\n",
              "    </tr>\n",
              "  </tbody>\n",
              "</table>\n",
              "</div>"
            ],
            "text/plain": [
              "   id    Season       city  ...         umpire1        umpire2 umpire3\n",
              "0   1  IPL-2017  Hyderabad  ...     AY Dandekar       NJ Llong     NaN\n",
              "1   2  IPL-2017       Pune  ...  A Nand Kishore         S Ravi     NaN\n",
              "2   3  IPL-2017     Rajkot  ...     Nitin Menon      CK Nandan     NaN\n",
              "3   4  IPL-2017     Indore  ...    AK Chaudhary  C Shamshuddin     NaN\n",
              "4   5  IPL-2017  Bangalore  ...             NaN            NaN     NaN\n",
              "\n",
              "[5 rows x 18 columns]"
            ]
          },
          "metadata": {
            "tags": []
          },
          "execution_count": 5
        }
      ]
    },
    {
      "cell_type": "markdown",
      "metadata": {
        "id": "-KwD9_nZ1p-c"
      },
      "source": [
        "#Getting information of matches dataset."
      ]
    },
    {
      "cell_type": "code",
      "metadata": {
        "colab": {
          "base_uri": "https://localhost:8080/"
        },
        "id": "dHVWq7cELs4T",
        "outputId": "abcec5fe-9faf-4646-bf84-e8860cf4622d"
      },
      "source": [
        "matches_df.info()"
      ],
      "execution_count": null,
      "outputs": [
        {
          "output_type": "stream",
          "text": [
            "<class 'pandas.core.frame.DataFrame'>\n",
            "RangeIndex: 756 entries, 0 to 755\n",
            "Data columns (total 18 columns):\n",
            " #   Column           Non-Null Count  Dtype \n",
            "---  ------           --------------  ----- \n",
            " 0   id               756 non-null    int64 \n",
            " 1   Season           756 non-null    object\n",
            " 2   city             749 non-null    object\n",
            " 3   date             756 non-null    object\n",
            " 4   team1            756 non-null    object\n",
            " 5   team2            756 non-null    object\n",
            " 6   toss_winner      756 non-null    object\n",
            " 7   toss_decision    756 non-null    object\n",
            " 8   result           756 non-null    object\n",
            " 9   dl_applied       756 non-null    int64 \n",
            " 10  winner           752 non-null    object\n",
            " 11  win_by_runs      756 non-null    int64 \n",
            " 12  win_by_wickets   756 non-null    int64 \n",
            " 13  player_of_match  752 non-null    object\n",
            " 14  venue            756 non-null    object\n",
            " 15  umpire1          754 non-null    object\n",
            " 16  umpire2          754 non-null    object\n",
            " 17  umpire3          119 non-null    object\n",
            "dtypes: int64(4), object(14)\n",
            "memory usage: 106.4+ KB\n"
          ],
          "name": "stdout"
        }
      ]
    },
    {
      "cell_type": "code",
      "metadata": {
        "colab": {
          "base_uri": "https://localhost:8080/"
        },
        "id": "nD6aAlQ0Lxcl",
        "outputId": "f1d36a17-7931-4a26-8daa-37789b225cae"
      },
      "source": [
        "matches_df.columns   # checking columns"
      ],
      "execution_count": null,
      "outputs": [
        {
          "output_type": "execute_result",
          "data": {
            "text/plain": [
              "Index(['id', 'Season', 'city', 'date', 'team1', 'team2', 'toss_winner',\n",
              "       'toss_decision', 'result', 'dl_applied', 'winner', 'win_by_runs',\n",
              "       'win_by_wickets', 'player_of_match', 'venue', 'umpire1', 'umpire2',\n",
              "       'umpire3'],\n",
              "      dtype='object')"
            ]
          },
          "metadata": {
            "tags": []
          },
          "execution_count": 7
        }
      ]
    },
    {
      "cell_type": "markdown",
      "metadata": {
        "id": "qKYVK8VYPaty"
      },
      "source": [
        "#**1.Most number of Man of the Matches in each season.**"
      ]
    },
    {
      "cell_type": "code",
      "metadata": {
        "colab": {
          "base_uri": "https://localhost:8080/",
          "height": 204
        },
        "id": "I-099i-TL6O4",
        "outputId": "59330bf7-5536-44e8-daab-2e8148b0134b"
      },
      "source": [
        "#Slicing\n",
        "MOM_df=matches_df[['Season','player_of_match']]\n",
        "MOM_df.head()"
      ],
      "execution_count": null,
      "outputs": [
        {
          "output_type": "execute_result",
          "data": {
            "text/html": [
              "<div>\n",
              "<style scoped>\n",
              "    .dataframe tbody tr th:only-of-type {\n",
              "        vertical-align: middle;\n",
              "    }\n",
              "\n",
              "    .dataframe tbody tr th {\n",
              "        vertical-align: top;\n",
              "    }\n",
              "\n",
              "    .dataframe thead th {\n",
              "        text-align: right;\n",
              "    }\n",
              "</style>\n",
              "<table border=\"1\" class=\"dataframe\">\n",
              "  <thead>\n",
              "    <tr style=\"text-align: right;\">\n",
              "      <th></th>\n",
              "      <th>Season</th>\n",
              "      <th>player_of_match</th>\n",
              "    </tr>\n",
              "  </thead>\n",
              "  <tbody>\n",
              "    <tr>\n",
              "      <th>0</th>\n",
              "      <td>IPL-2017</td>\n",
              "      <td>Yuvraj Singh</td>\n",
              "    </tr>\n",
              "    <tr>\n",
              "      <th>1</th>\n",
              "      <td>IPL-2017</td>\n",
              "      <td>SPD Smith</td>\n",
              "    </tr>\n",
              "    <tr>\n",
              "      <th>2</th>\n",
              "      <td>IPL-2017</td>\n",
              "      <td>CA Lynn</td>\n",
              "    </tr>\n",
              "    <tr>\n",
              "      <th>3</th>\n",
              "      <td>IPL-2017</td>\n",
              "      <td>GJ Maxwell</td>\n",
              "    </tr>\n",
              "    <tr>\n",
              "      <th>4</th>\n",
              "      <td>IPL-2017</td>\n",
              "      <td>KM Jadhav</td>\n",
              "    </tr>\n",
              "  </tbody>\n",
              "</table>\n",
              "</div>"
            ],
            "text/plain": [
              "     Season player_of_match\n",
              "0  IPL-2017    Yuvraj Singh\n",
              "1  IPL-2017       SPD Smith\n",
              "2  IPL-2017         CA Lynn\n",
              "3  IPL-2017      GJ Maxwell\n",
              "4  IPL-2017       KM Jadhav"
            ]
          },
          "metadata": {
            "tags": []
          },
          "execution_count": 8
        }
      ]
    },
    {
      "cell_type": "markdown",
      "metadata": {
        "id": "hbfnDKyn5G_2"
      },
      "source": [
        "            *Slicing the matches data set to get only season and player of the match columns and got new Dataframe as MOM_df\n"
      ]
    },
    {
      "cell_type": "code",
      "metadata": {
        "colab": {
          "base_uri": "https://localhost:8080/"
        },
        "id": "6tUJgVALMDEH",
        "outputId": "d608ab61-397e-4537-a581-e40d68992989"
      },
      "source": [
        "#getting info\n",
        "MOM_df.info()"
      ],
      "execution_count": null,
      "outputs": [
        {
          "output_type": "stream",
          "text": [
            "<class 'pandas.core.frame.DataFrame'>\n",
            "RangeIndex: 756 entries, 0 to 755\n",
            "Data columns (total 2 columns):\n",
            " #   Column           Non-Null Count  Dtype \n",
            "---  ------           --------------  ----- \n",
            " 0   Season           756 non-null    object\n",
            " 1   player_of_match  752 non-null    object\n",
            "dtypes: object(2)\n",
            "memory usage: 11.9+ KB\n"
          ],
          "name": "stdout"
        }
      ]
    },
    {
      "cell_type": "markdown",
      "metadata": {
        "id": "bU0uqbDg7e86"
      },
      "source": [
        "          *Checking for the null values in the dataframe and there are 4 null values in the column player_of_match."
      ]
    },
    {
      "cell_type": "code",
      "metadata": {
        "colab": {
          "base_uri": "https://localhost:8080/",
          "height": 204
        },
        "id": "hQjnEpQGMOG5",
        "outputId": "3e4e5bef-01f7-4335-b4ca-c4d2dc51febc"
      },
      "source": [
        "#clearing null value rows\n",
        "no_na_df=MOM_df[~MOM_df['player_of_match'].isna()]\n",
        "no_na_df.head(5)"
      ],
      "execution_count": null,
      "outputs": [
        {
          "output_type": "execute_result",
          "data": {
            "text/html": [
              "<div>\n",
              "<style scoped>\n",
              "    .dataframe tbody tr th:only-of-type {\n",
              "        vertical-align: middle;\n",
              "    }\n",
              "\n",
              "    .dataframe tbody tr th {\n",
              "        vertical-align: top;\n",
              "    }\n",
              "\n",
              "    .dataframe thead th {\n",
              "        text-align: right;\n",
              "    }\n",
              "</style>\n",
              "<table border=\"1\" class=\"dataframe\">\n",
              "  <thead>\n",
              "    <tr style=\"text-align: right;\">\n",
              "      <th></th>\n",
              "      <th>Season</th>\n",
              "      <th>player_of_match</th>\n",
              "    </tr>\n",
              "  </thead>\n",
              "  <tbody>\n",
              "    <tr>\n",
              "      <th>0</th>\n",
              "      <td>IPL-2017</td>\n",
              "      <td>Yuvraj Singh</td>\n",
              "    </tr>\n",
              "    <tr>\n",
              "      <th>1</th>\n",
              "      <td>IPL-2017</td>\n",
              "      <td>SPD Smith</td>\n",
              "    </tr>\n",
              "    <tr>\n",
              "      <th>2</th>\n",
              "      <td>IPL-2017</td>\n",
              "      <td>CA Lynn</td>\n",
              "    </tr>\n",
              "    <tr>\n",
              "      <th>3</th>\n",
              "      <td>IPL-2017</td>\n",
              "      <td>GJ Maxwell</td>\n",
              "    </tr>\n",
              "    <tr>\n",
              "      <th>4</th>\n",
              "      <td>IPL-2017</td>\n",
              "      <td>KM Jadhav</td>\n",
              "    </tr>\n",
              "  </tbody>\n",
              "</table>\n",
              "</div>"
            ],
            "text/plain": [
              "     Season player_of_match\n",
              "0  IPL-2017    Yuvraj Singh\n",
              "1  IPL-2017       SPD Smith\n",
              "2  IPL-2017         CA Lynn\n",
              "3  IPL-2017      GJ Maxwell\n",
              "4  IPL-2017       KM Jadhav"
            ]
          },
          "metadata": {
            "tags": []
          },
          "execution_count": 10
        }
      ]
    },
    {
      "cell_type": "code",
      "metadata": {
        "colab": {
          "base_uri": "https://localhost:8080/"
        },
        "id": "hEfQ5YojMSlf",
        "outputId": "9cf5ce35-9fe2-4185-c4a1-b5f98ca7539a"
      },
      "source": [
        "no_na_df.info()"
      ],
      "execution_count": null,
      "outputs": [
        {
          "output_type": "stream",
          "text": [
            "<class 'pandas.core.frame.DataFrame'>\n",
            "Int64Index: 752 entries, 0 to 755\n",
            "Data columns (total 2 columns):\n",
            " #   Column           Non-Null Count  Dtype \n",
            "---  ------           --------------  ----- \n",
            " 0   Season           752 non-null    object\n",
            " 1   player_of_match  752 non-null    object\n",
            "dtypes: object(2)\n",
            "memory usage: 17.6+ KB\n"
          ],
          "name": "stdout"
        }
      ]
    },
    {
      "cell_type": "markdown",
      "metadata": {
        "id": "6FiDJ2tx8BCZ"
      },
      "source": [
        "        * After removing the null values and again rechecking for the null values in the dataframe"
      ]
    },
    {
      "cell_type": "code",
      "metadata": {
        "colab": {
          "base_uri": "https://localhost:8080/"
        },
        "id": "26AvzeMwQkRG",
        "outputId": "f8990080-4667-473e-8af9-007345c0627b"
      },
      "source": [
        "#getting unique season values\n",
        "Total_seasons=sorted(matches_df['Season'].unique())\n",
        "Total_seasons"
      ],
      "execution_count": null,
      "outputs": [
        {
          "output_type": "execute_result",
          "data": {
            "text/plain": [
              "['IPL-2008',\n",
              " 'IPL-2009',\n",
              " 'IPL-2010',\n",
              " 'IPL-2011',\n",
              " 'IPL-2012',\n",
              " 'IPL-2013',\n",
              " 'IPL-2014',\n",
              " 'IPL-2015',\n",
              " 'IPL-2016',\n",
              " 'IPL-2017',\n",
              " 'IPL-2018',\n",
              " 'IPL-2019']"
            ]
          },
          "metadata": {
            "tags": []
          },
          "execution_count": 12
        }
      ]
    },
    {
      "cell_type": "code",
      "metadata": {
        "colab": {
          "base_uri": "https://localhost:8080/"
        },
        "id": "y39S-n56Q99V",
        "outputId": "d947d48a-06ba-45db-9ec3-773bd5774e6d"
      },
      "source": [
        "#simplifing\n",
        "player_n=[]\n",
        "nom=[]\n",
        "for i in Total_seasons:\n",
        "  s=no_na_df[no_na_df['Season']==i]\n",
        "  r=s['player_of_match'].value_counts().reset_index()\n",
        "  player_n.append(r.loc[0,:][0])\n",
        "  nom.append(r.loc[0,:][1])\n",
        "\n",
        "player_n  \n",
        "nom\n"
      ],
      "execution_count": null,
      "outputs": [
        {
          "output_type": "execute_result",
          "data": {
            "text/plain": [
              "[5, 3, 4, 6, 5, 5, 4, 4, 5, 3, 4, 4]"
            ]
          },
          "metadata": {
            "tags": []
          },
          "execution_count": 13
        }
      ]
    },
    {
      "cell_type": "markdown",
      "metadata": {
        "id": "lfluNBJs89CL"
      },
      "source": [
        "             *Extracting player name and maximum number of Man of the matches won by a player in each season"
      ]
    },
    {
      "cell_type": "code",
      "metadata": {
        "colab": {
          "base_uri": "https://localhost:8080/",
          "height": 204
        },
        "id": "YSuHh5Q4RK7c",
        "outputId": "365f2855-115c-43f3-f81c-896bbff1cba8"
      },
      "source": [
        "#creating a dataframe \n",
        "most_mom=pd.DataFrame({'season':Total_seasons,\n",
        "                             'player':player_n,\n",
        "                             'numbers':nom})\n",
        "most_mom.head()"
      ],
      "execution_count": null,
      "outputs": [
        {
          "output_type": "execute_result",
          "data": {
            "text/html": [
              "<div>\n",
              "<style scoped>\n",
              "    .dataframe tbody tr th:only-of-type {\n",
              "        vertical-align: middle;\n",
              "    }\n",
              "\n",
              "    .dataframe tbody tr th {\n",
              "        vertical-align: top;\n",
              "    }\n",
              "\n",
              "    .dataframe thead th {\n",
              "        text-align: right;\n",
              "    }\n",
              "</style>\n",
              "<table border=\"1\" class=\"dataframe\">\n",
              "  <thead>\n",
              "    <tr style=\"text-align: right;\">\n",
              "      <th></th>\n",
              "      <th>season</th>\n",
              "      <th>player</th>\n",
              "      <th>numbers</th>\n",
              "    </tr>\n",
              "  </thead>\n",
              "  <tbody>\n",
              "    <tr>\n",
              "      <th>0</th>\n",
              "      <td>IPL-2008</td>\n",
              "      <td>SE Marsh</td>\n",
              "      <td>5</td>\n",
              "    </tr>\n",
              "    <tr>\n",
              "      <th>1</th>\n",
              "      <td>IPL-2009</td>\n",
              "      <td>YK Pathan</td>\n",
              "      <td>3</td>\n",
              "    </tr>\n",
              "    <tr>\n",
              "      <th>2</th>\n",
              "      <td>IPL-2010</td>\n",
              "      <td>SR Tendulkar</td>\n",
              "      <td>4</td>\n",
              "    </tr>\n",
              "    <tr>\n",
              "      <th>3</th>\n",
              "      <td>IPL-2011</td>\n",
              "      <td>CH Gayle</td>\n",
              "      <td>6</td>\n",
              "    </tr>\n",
              "    <tr>\n",
              "      <th>4</th>\n",
              "      <td>IPL-2012</td>\n",
              "      <td>CH Gayle</td>\n",
              "      <td>5</td>\n",
              "    </tr>\n",
              "  </tbody>\n",
              "</table>\n",
              "</div>"
            ],
            "text/plain": [
              "     season        player  numbers\n",
              "0  IPL-2008      SE Marsh        5\n",
              "1  IPL-2009     YK Pathan        3\n",
              "2  IPL-2010  SR Tendulkar        4\n",
              "3  IPL-2011      CH Gayle        6\n",
              "4  IPL-2012      CH Gayle        5"
            ]
          },
          "metadata": {
            "tags": []
          },
          "execution_count": 14
        }
      ]
    },
    {
      "cell_type": "markdown",
      "metadata": {
        "id": "QDfywQH-9V-9"
      },
      "source": [
        "    * Created new dataframe with the columns **season**,** player** and  **number** ."
      ]
    },
    {
      "cell_type": "code",
      "metadata": {
        "colab": {
          "base_uri": "https://localhost:8080/"
        },
        "id": "8WpfgbQsRYOf",
        "outputId": "392f35ef-7a2e-44db-eac1-20385a5e3626"
      },
      "source": [
        "#Getting information\n",
        "most_mom.info()"
      ],
      "execution_count": null,
      "outputs": [
        {
          "output_type": "stream",
          "text": [
            "<class 'pandas.core.frame.DataFrame'>\n",
            "RangeIndex: 12 entries, 0 to 11\n",
            "Data columns (total 3 columns):\n",
            " #   Column   Non-Null Count  Dtype \n",
            "---  ------   --------------  ----- \n",
            " 0   season   12 non-null     object\n",
            " 1   player   12 non-null     object\n",
            " 2   numbers  12 non-null     int64 \n",
            "dtypes: int64(1), object(2)\n",
            "memory usage: 416.0+ bytes\n"
          ],
          "name": "stdout"
        }
      ]
    },
    {
      "cell_type": "code",
      "metadata": {
        "colab": {
          "base_uri": "https://localhost:8080/",
          "height": 297
        },
        "id": "FO_B4ynHRP9-",
        "outputId": "90fe9aa9-43cb-477e-ecd9-fd9686c5a72f"
      },
      "source": [
        "# summary\n",
        "most_mom.describe()"
      ],
      "execution_count": null,
      "outputs": [
        {
          "output_type": "execute_result",
          "data": {
            "text/html": [
              "<div>\n",
              "<style scoped>\n",
              "    .dataframe tbody tr th:only-of-type {\n",
              "        vertical-align: middle;\n",
              "    }\n",
              "\n",
              "    .dataframe tbody tr th {\n",
              "        vertical-align: top;\n",
              "    }\n",
              "\n",
              "    .dataframe thead th {\n",
              "        text-align: right;\n",
              "    }\n",
              "</style>\n",
              "<table border=\"1\" class=\"dataframe\">\n",
              "  <thead>\n",
              "    <tr style=\"text-align: right;\">\n",
              "      <th></th>\n",
              "      <th>numbers</th>\n",
              "    </tr>\n",
              "  </thead>\n",
              "  <tbody>\n",
              "    <tr>\n",
              "      <th>count</th>\n",
              "      <td>12.000000</td>\n",
              "    </tr>\n",
              "    <tr>\n",
              "      <th>mean</th>\n",
              "      <td>4.333333</td>\n",
              "    </tr>\n",
              "    <tr>\n",
              "      <th>std</th>\n",
              "      <td>0.887625</td>\n",
              "    </tr>\n",
              "    <tr>\n",
              "      <th>min</th>\n",
              "      <td>3.000000</td>\n",
              "    </tr>\n",
              "    <tr>\n",
              "      <th>25%</th>\n",
              "      <td>4.000000</td>\n",
              "    </tr>\n",
              "    <tr>\n",
              "      <th>50%</th>\n",
              "      <td>4.000000</td>\n",
              "    </tr>\n",
              "    <tr>\n",
              "      <th>75%</th>\n",
              "      <td>5.000000</td>\n",
              "    </tr>\n",
              "    <tr>\n",
              "      <th>max</th>\n",
              "      <td>6.000000</td>\n",
              "    </tr>\n",
              "  </tbody>\n",
              "</table>\n",
              "</div>"
            ],
            "text/plain": [
              "         numbers\n",
              "count  12.000000\n",
              "mean    4.333333\n",
              "std     0.887625\n",
              "min     3.000000\n",
              "25%     4.000000\n",
              "50%     4.000000\n",
              "75%     5.000000\n",
              "max     6.000000"
            ]
          },
          "metadata": {
            "tags": []
          },
          "execution_count": 16
        }
      ]
    },
    {
      "cell_type": "markdown",
      "metadata": {
        "id": "Gi3UpF-Y94e0"
      },
      "source": [
        "      * We can see the summary of the most_mom dataframe."
      ]
    },
    {
      "cell_type": "code",
      "metadata": {
        "colab": {
          "base_uri": "https://localhost:8080/",
          "height": 769
        },
        "id": "dD5HQ7xnRdb3",
        "outputId": "0bde6670-834a-41ad-f248-cef2d78bcc69"
      },
      "source": [
        "plt.figure(figsize=(12,12))\n",
        "ax=sns.barplot(x='player',y='numbers',data=most_mom)\n",
        "rects=ax.patches\n",
        "labels=[2008,2009,2010,[2011,2012],2013,2014,2015,2016,2017,2018,2019]\n",
        "for rect, label in zip(rects, labels):\n",
        "    height = rect.get_height()\n",
        "    ax.text(rect.get_x() + rect.get_width() / 2, height, label,\n",
        "            ha='center', va='bottom',fontsize=18)\n",
        "for p in rects:\n",
        "    ax.annotate(format(p.get_height(), '.1f'), \n",
        "                   (p.get_x() + p.get_width() / 2., p.get_height()), \n",
        "                   ha = 'center', va = 'center', \n",
        "                   size=15,\n",
        "                   xytext = (0, -12), \n",
        "                   textcoords = 'offset points',fontsize=18)\n",
        "plt.title(\"Maximum number of MOM in each season\",fontsize=18,fontweight=\"bold\")\n",
        "plt.ylabel('Number_of_MOM', fontsize=28)\n",
        "plt.xlabel('Players', fontsize=28)"
      ],
      "execution_count": null,
      "outputs": [
        {
          "output_type": "execute_result",
          "data": {
            "text/plain": [
              "Text(0.5, 0, 'Players')"
            ]
          },
          "metadata": {
            "tags": []
          },
          "execution_count": 17
        },
        {
          "output_type": "display_data",
          "data": {
            "image/png": "[encoded data removed]",
            "text/plain": [
              "<Figure size 864x864 with 1 Axes>"
            ]
          },
          "metadata": {
            "tags": [],
            "needs_background": "light"
          }
        }
      ]
    },
    {
      "cell_type": "markdown",
      "metadata": {
        "id": "WYSro0bR-MA0"
      },
      "source": [
        "*By looking into above graph we can see that most no of man of the matches won over the years . Maximum is 5.5 i.e 6 that is in the year 2011,2012 by CH Gayle, Minimum is by Ben stokes in the year 2017."
      ]
    },
    {
      "cell_type": "markdown",
      "metadata": {
        "id": "WRXyGALdRtLN"
      },
      "source": [
        "#**2.Highest winning margin in terms of runs and wickets in every year.**"
      ]
    },
    {
      "cell_type": "code",
      "metadata": {
        "colab": {
          "base_uri": "https://localhost:8080/",
          "height": 204
        },
        "id": "ENOM15j7RmWm",
        "outputId": "6c6a8458-9449-40c9-f6cf-a232074e865f"
      },
      "source": [
        "#slicing of dataframe\n",
        "new_df=matches_df[['Season','team1','team2','winner','win_by_runs','win_by_wickets']]\n",
        "new_df.head()"
      ],
      "execution_count": null,
      "outputs": [
        {
          "output_type": "execute_result",
          "data": {
            "text/html": [
              "<div>\n",
              "<style scoped>\n",
              "    .dataframe tbody tr th:only-of-type {\n",
              "        vertical-align: middle;\n",
              "    }\n",
              "\n",
              "    .dataframe tbody tr th {\n",
              "        vertical-align: top;\n",
              "    }\n",
              "\n",
              "    .dataframe thead th {\n",
              "        text-align: right;\n",
              "    }\n",
              "</style>\n",
              "<table border=\"1\" class=\"dataframe\">\n",
              "  <thead>\n",
              "    <tr style=\"text-align: right;\">\n",
              "      <th></th>\n",
              "      <th>Season</th>\n",
              "      <th>team1</th>\n",
              "      <th>team2</th>\n",
              "      <th>winner</th>\n",
              "      <th>win_by_runs</th>\n",
              "      <th>win_by_wickets</th>\n",
              "    </tr>\n",
              "  </thead>\n",
              "  <tbody>\n",
              "    <tr>\n",
              "      <th>0</th>\n",
              "      <td>IPL-2017</td>\n",
              "      <td>Sunrisers Hyderabad</td>\n",
              "      <td>Royal Challengers Bangalore</td>\n",
              "      <td>Sunrisers Hyderabad</td>\n",
              "      <td>35</td>\n",
              "      <td>0</td>\n",
              "    </tr>\n",
              "    <tr>\n",
              "      <th>1</th>\n",
              "      <td>IPL-2017</td>\n",
              "      <td>Mumbai Indians</td>\n",
              "      <td>Rising Pune Supergiant</td>\n",
              "      <td>Rising Pune Supergiant</td>\n",
              "      <td>0</td>\n",
              "      <td>7</td>\n",
              "    </tr>\n",
              "    <tr>\n",
              "      <th>2</th>\n",
              "      <td>IPL-2017</td>\n",
              "      <td>Gujarat Lions</td>\n",
              "      <td>Kolkata Knight Riders</td>\n",
              "      <td>Kolkata Knight Riders</td>\n",
              "      <td>0</td>\n",
              "      <td>10</td>\n",
              "    </tr>\n",
              "    <tr>\n",
              "      <th>3</th>\n",
              "      <td>IPL-2017</td>\n",
              "      <td>Rising Pune Supergiant</td>\n",
              "      <td>Kings XI Punjab</td>\n",
              "      <td>Kings XI Punjab</td>\n",
              "      <td>0</td>\n",
              "      <td>6</td>\n",
              "    </tr>\n",
              "    <tr>\n",
              "      <th>4</th>\n",
              "      <td>IPL-2017</td>\n",
              "      <td>Royal Challengers Bangalore</td>\n",
              "      <td>Delhi Daredevils</td>\n",
              "      <td>Royal Challengers Bangalore</td>\n",
              "      <td>15</td>\n",
              "      <td>0</td>\n",
              "    </tr>\n",
              "  </tbody>\n",
              "</table>\n",
              "</div>"
            ],
            "text/plain": [
              "     Season                        team1  ... win_by_runs win_by_wickets\n",
              "0  IPL-2017          Sunrisers Hyderabad  ...          35              0\n",
              "1  IPL-2017               Mumbai Indians  ...           0              7\n",
              "2  IPL-2017                Gujarat Lions  ...           0             10\n",
              "3  IPL-2017       Rising Pune Supergiant  ...           0              6\n",
              "4  IPL-2017  Royal Challengers Bangalore  ...          15              0\n",
              "\n",
              "[5 rows x 6 columns]"
            ]
          },
          "metadata": {
            "tags": []
          },
          "execution_count": 18
        }
      ]
    },
    {
      "cell_type": "markdown",
      "metadata": {
        "id": "ysKHUd_T-4jP"
      },
      "source": [
        "       * For getting the margin  in terms of runs and wickets , sliced the matches_df with columns Season , team1, team2, winner , win_by_runs,win_by_wickets."
      ]
    },
    {
      "cell_type": "code",
      "metadata": {
        "colab": {
          "base_uri": "https://localhost:8080/"
        },
        "id": "IO2Y9fjcR-pP",
        "outputId": "c487c470-fafa-4203-826b-8234a04c1b85"
      },
      "source": [
        "#fetching info....\n",
        "new_df.info()"
      ],
      "execution_count": null,
      "outputs": [
        {
          "output_type": "stream",
          "text": [
            "<class 'pandas.core.frame.DataFrame'>\n",
            "RangeIndex: 756 entries, 0 to 755\n",
            "Data columns (total 6 columns):\n",
            " #   Column          Non-Null Count  Dtype \n",
            "---  ------          --------------  ----- \n",
            " 0   Season          756 non-null    object\n",
            " 1   team1           756 non-null    object\n",
            " 2   team2           756 non-null    object\n",
            " 3   winner          752 non-null    object\n",
            " 4   win_by_runs     756 non-null    int64 \n",
            " 5   win_by_wickets  756 non-null    int64 \n",
            "dtypes: int64(2), object(4)\n",
            "memory usage: 35.6+ KB\n"
          ],
          "name": "stdout"
        }
      ]
    },
    {
      "cell_type": "code",
      "metadata": {
        "colab": {
          "base_uri": "https://localhost:8080/"
        },
        "id": "RvmcxBiBSHVf",
        "outputId": "efa05e2f-d299-44ea-fcb6-974a1ba6fddc"
      },
      "source": [
        "#working on the data....@.....\n",
        "margin_in_runs=[]\n",
        "margin_in_wickets=[]\n",
        "for i in Total_seasons:\n",
        "  s=new_df[new_df['Season']==i]\n",
        "  margin_in_runs.append(s['win_by_runs'].max())\n",
        "  margin_in_wickets.append(s['win_by_wickets'].max())\n",
        "\n",
        "margin_in_runs\n",
        "margin_in_wickets"
      ],
      "execution_count": null,
      "outputs": [
        {
          "output_type": "execute_result",
          "data": {
            "text/plain": [
              "[10, 10, 10, 10, 10, 10, 9, 10, 10, 10, 10, 9]"
            ]
          },
          "metadata": {
            "tags": []
          },
          "execution_count": 20
        }
      ]
    },
    {
      "cell_type": "markdown",
      "metadata": {
        "id": "pF6Y4R_MAWQ6"
      },
      "source": [
        "               * storing maximum margin in terms of runs in list margin_in_runs.\n",
        "               * storing maximum margin in terms of wickets in list margin_in_wickets.\n"
      ]
    },
    {
      "cell_type": "code",
      "metadata": {
        "colab": {
          "base_uri": "https://localhost:8080/",
          "height": 421
        },
        "id": "7lPDnzrQSYmI",
        "outputId": "1cf31a1a-c8cc-4d09-8dcc-6eb79a2065e3"
      },
      "source": [
        "#creating data\n",
        "winning_margin=pd.DataFrame({'season':Total_seasons,\n",
        "                                  \n",
        "                             'win_by_runs':margin_in_runs,\n",
        "                             'win_by_wickets':margin_in_wickets})\n",
        "winning_margin"
      ],
      "execution_count": null,
      "outputs": [
        {
          "output_type": "execute_result",
          "data": {
            "text/html": [
              "<div>\n",
              "<style scoped>\n",
              "    .dataframe tbody tr th:only-of-type {\n",
              "        vertical-align: middle;\n",
              "    }\n",
              "\n",
              "    .dataframe tbody tr th {\n",
              "        vertical-align: top;\n",
              "    }\n",
              "\n",
              "    .dataframe thead th {\n",
              "        text-align: right;\n",
              "    }\n",
              "</style>\n",
              "<table border=\"1\" class=\"dataframe\">\n",
              "  <thead>\n",
              "    <tr style=\"text-align: right;\">\n",
              "      <th></th>\n",
              "      <th>season</th>\n",
              "      <th>win_by_runs</th>\n",
              "      <th>win_by_wickets</th>\n",
              "    </tr>\n",
              "  </thead>\n",
              "  <tbody>\n",
              "    <tr>\n",
              "      <th>0</th>\n",
              "      <td>IPL-2008</td>\n",
              "      <td>140</td>\n",
              "      <td>10</td>\n",
              "    </tr>\n",
              "    <tr>\n",
              "      <th>1</th>\n",
              "      <td>IPL-2009</td>\n",
              "      <td>92</td>\n",
              "      <td>10</td>\n",
              "    </tr>\n",
              "    <tr>\n",
              "      <th>2</th>\n",
              "      <td>IPL-2010</td>\n",
              "      <td>98</td>\n",
              "      <td>10</td>\n",
              "    </tr>\n",
              "    <tr>\n",
              "      <th>3</th>\n",
              "      <td>IPL-2011</td>\n",
              "      <td>111</td>\n",
              "      <td>10</td>\n",
              "    </tr>\n",
              "    <tr>\n",
              "      <th>4</th>\n",
              "      <td>IPL-2012</td>\n",
              "      <td>86</td>\n",
              "      <td>10</td>\n",
              "    </tr>\n",
              "    <tr>\n",
              "      <th>5</th>\n",
              "      <td>IPL-2013</td>\n",
              "      <td>130</td>\n",
              "      <td>10</td>\n",
              "    </tr>\n",
              "    <tr>\n",
              "      <th>6</th>\n",
              "      <td>IPL-2014</td>\n",
              "      <td>93</td>\n",
              "      <td>9</td>\n",
              "    </tr>\n",
              "    <tr>\n",
              "      <th>7</th>\n",
              "      <td>IPL-2015</td>\n",
              "      <td>138</td>\n",
              "      <td>10</td>\n",
              "    </tr>\n",
              "    <tr>\n",
              "      <th>8</th>\n",
              "      <td>IPL-2016</td>\n",
              "      <td>144</td>\n",
              "      <td>10</td>\n",
              "    </tr>\n",
              "    <tr>\n",
              "      <th>9</th>\n",
              "      <td>IPL-2017</td>\n",
              "      <td>146</td>\n",
              "      <td>10</td>\n",
              "    </tr>\n",
              "    <tr>\n",
              "      <th>10</th>\n",
              "      <td>IPL-2018</td>\n",
              "      <td>102</td>\n",
              "      <td>10</td>\n",
              "    </tr>\n",
              "    <tr>\n",
              "      <th>11</th>\n",
              "      <td>IPL-2019</td>\n",
              "      <td>118</td>\n",
              "      <td>9</td>\n",
              "    </tr>\n",
              "  </tbody>\n",
              "</table>\n",
              "</div>"
            ],
            "text/plain": [
              "      season  win_by_runs  win_by_wickets\n",
              "0   IPL-2008          140              10\n",
              "1   IPL-2009           92              10\n",
              "2   IPL-2010           98              10\n",
              "3   IPL-2011          111              10\n",
              "4   IPL-2012           86              10\n",
              "5   IPL-2013          130              10\n",
              "6   IPL-2014           93               9\n",
              "7   IPL-2015          138              10\n",
              "8   IPL-2016          144              10\n",
              "9   IPL-2017          146              10\n",
              "10  IPL-2018          102              10\n",
              "11  IPL-2019          118               9"
            ]
          },
          "metadata": {
            "tags": []
          },
          "execution_count": 22
        }
      ]
    },
    {
      "cell_type": "markdown",
      "metadata": {
        "id": "eE9SKuT9BKV_"
      },
      "source": [
        "               * Creating dataframe with 3 lists Total_seasons , margin_in_runs and margin_in_wickets as season, win_by_runs and win_by_wickets respectively."
      ]
    },
    {
      "cell_type": "code",
      "metadata": {
        "colab": {
          "base_uri": "https://localhost:8080/",
          "height": 297
        },
        "id": "dZtcvFvcSilp",
        "outputId": "21cfaaa3-735c-40c2-8e00-0ae49b490e78"
      },
      "source": [
        "#summary\n",
        "winning_margin.describe()"
      ],
      "execution_count": null,
      "outputs": [
        {
          "output_type": "execute_result",
          "data": {
            "text/html": [
              "<div>\n",
              "<style scoped>\n",
              "    .dataframe tbody tr th:only-of-type {\n",
              "        vertical-align: middle;\n",
              "    }\n",
              "\n",
              "    .dataframe tbody tr th {\n",
              "        vertical-align: top;\n",
              "    }\n",
              "\n",
              "    .dataframe thead th {\n",
              "        text-align: right;\n",
              "    }\n",
              "</style>\n",
              "<table border=\"1\" class=\"dataframe\">\n",
              "  <thead>\n",
              "    <tr style=\"text-align: right;\">\n",
              "      <th></th>\n",
              "      <th>win_by_runs</th>\n",
              "      <th>win_by_wickets</th>\n",
              "    </tr>\n",
              "  </thead>\n",
              "  <tbody>\n",
              "    <tr>\n",
              "      <th>count</th>\n",
              "      <td>12.000000</td>\n",
              "      <td>12.000000</td>\n",
              "    </tr>\n",
              "    <tr>\n",
              "      <th>mean</th>\n",
              "      <td>116.500000</td>\n",
              "      <td>9.833333</td>\n",
              "    </tr>\n",
              "    <tr>\n",
              "      <th>std</th>\n",
              "      <td>22.342377</td>\n",
              "      <td>0.389249</td>\n",
              "    </tr>\n",
              "    <tr>\n",
              "      <th>min</th>\n",
              "      <td>86.000000</td>\n",
              "      <td>9.000000</td>\n",
              "    </tr>\n",
              "    <tr>\n",
              "      <th>25%</th>\n",
              "      <td>96.750000</td>\n",
              "      <td>10.000000</td>\n",
              "    </tr>\n",
              "    <tr>\n",
              "      <th>50%</th>\n",
              "      <td>114.500000</td>\n",
              "      <td>10.000000</td>\n",
              "    </tr>\n",
              "    <tr>\n",
              "      <th>75%</th>\n",
              "      <td>138.500000</td>\n",
              "      <td>10.000000</td>\n",
              "    </tr>\n",
              "    <tr>\n",
              "      <th>max</th>\n",
              "      <td>146.000000</td>\n",
              "      <td>10.000000</td>\n",
              "    </tr>\n",
              "  </tbody>\n",
              "</table>\n",
              "</div>"
            ],
            "text/plain": [
              "       win_by_runs  win_by_wickets\n",
              "count    12.000000       12.000000\n",
              "mean    116.500000        9.833333\n",
              "std      22.342377        0.389249\n",
              "min      86.000000        9.000000\n",
              "25%      96.750000       10.000000\n",
              "50%     114.500000       10.000000\n",
              "75%     138.500000       10.000000\n",
              "max     146.000000       10.000000"
            ]
          },
          "metadata": {
            "tags": []
          },
          "execution_count": 35
        }
      ]
    },
    {
      "cell_type": "markdown",
      "metadata": {
        "id": "LjESEyW0CWI4"
      },
      "source": [
        "        *   we can get mean , minimum and maximum values from the dataset."
      ]
    },
    {
      "cell_type": "code",
      "metadata": {
        "colab": {
          "base_uri": "https://localhost:8080/",
          "height": 769
        },
        "id": "3LDYe_rhSqXj",
        "outputId": "2bf2b6cb-40b0-4c34-9389-205cbf872490"
      },
      "source": [
        "#visualisation\n",
        "plt.figure(figsize=(12,12))\n",
        "splot=sns.barplot(x='season',y='win_by_runs',data=winning_margin)\n",
        "for p in splot.patches:\n",
        "  splot.annotate(format(p.get_height(), '.1f'), \n",
        "                   (p.get_x() + p.get_width() / 2., p.get_height()), \n",
        "                   ha = 'center', va = 'center', \n",
        "                   xytext = (0, 9), \n",
        "                   textcoords = 'offset points',fontsize=19)\n",
        "plt.title(\"Maximum margin runs in each season\",fontsize=18,fontweight=\"bold\")\n",
        "plt.ylabel('win_by_runs', fontsize=28)\n",
        "plt.xlabel('season', fontsize=28)"
      ],
      "execution_count": null,
      "outputs": [
        {
          "output_type": "execute_result",
          "data": {
            "text/plain": [
              "Text(0.5, 0, 'season')"
            ]
          },
          "metadata": {
            "tags": []
          },
          "execution_count": 24
        },
        {
          "output_type": "display_data",
          "data": {
            "image/png": "[encoded data removed]",
            "text/plain": [
              "<Figure size 864x864 with 1 Axes>"
            ]
          },
          "metadata": {
            "tags": [],
            "needs_background": "light"
          }
        }
      ]
    },
    {
      "cell_type": "markdown",
      "metadata": {
        "id": "sm9UTb_w-4Jo"
      },
      "source": [
        "                  *  In the above graph we can see the maximum margin in terms of runs over the years.\n",
        "                     Maximum is in the year 2017 i.e 146 runs and Minimum in the year 2012 i.e 86 runs."
      ]
    },
    {
      "cell_type": "code",
      "metadata": {
        "colab": {
          "base_uri": "https://localhost:8080/",
          "height": 682
        },
        "id": "0LC16axFS010",
        "outputId": "bc67f3e7-98f1-483d-8a83-1c41c918908d"
      },
      "source": [
        "#graphcal output...\n",
        "new_df.groupby('Season')['win_by_runs'].max().plot(kind = 'barh', linewidth = 3, figsize =(15,10),\n",
        "                                                                                             color = 'blue')\n",
        "\n",
        "plt.title(\"Maximum Margin runs \",fontsize= 25, fontweight = 'bold')\n",
        "plt.ylabel(\"Season\", size = 25)\n",
        "plt.xlabel(\"winning by runs\", size = 25)\n",
        "plt.xticks(size = 12)\n",
        "plt.yticks(size = 12)"
      ],
      "execution_count": null,
      "outputs": [
        {
          "output_type": "execute_result",
          "data": {
            "text/plain": [
              "(array([ 0,  1,  2,  3,  4,  5,  6,  7,  8,  9, 10, 11]),\n",
              " <a list of 12 Text major ticklabel objects>)"
            ]
          },
          "metadata": {
            "tags": []
          },
          "execution_count": 25
        },
        {
          "output_type": "display_data",
          "data": {
            "image/png": "[encoded data removed]",
            "text/plain": [
              "<Figure size 1080x720 with 1 Axes>"
            ]
          },
          "metadata": {
            "tags": [],
            "needs_background": "light"
          }
        }
      ]
    },
    {
      "cell_type": "markdown",
      "metadata": {
        "id": "djUJCog8DtMU"
      },
      "source": [
        "             * same as previous graph just x and y are interchanged.      "
      ]
    },
    {
      "cell_type": "code",
      "metadata": {
        "colab": {
          "base_uri": "https://localhost:8080/",
          "height": 769
        },
        "id": "Pg0RpnTjS3xO",
        "outputId": "91231a8f-8913-4ffa-f553-dcdb3202042e"
      },
      "source": [
        "#ploting.....\n",
        "plt.figure(figsize=(12,12))\n",
        "wplot=sns.barplot(x='season',y='win_by_wickets',data=winning_margin,color = 'green')\n",
        "for p in wplot.patches:\n",
        "  wplot.annotate(format(p.get_height(), '.1f'), \n",
        "                   (p.get_x() + p.get_width() / 2., p.get_height()), \n",
        "                   ha = 'center', va = 'center', \n",
        "                   xytext = (0, 9), \n",
        "                   textcoords = 'offset points',fontsize=22)\n",
        "plt.title(\"Maximum Margin wickets \",fontsize=18,fontweight=\"bold\")\n",
        "plt.ylabel('win by wickets', fontsize=28)\n",
        "plt.xlabel('season', fontsize=28)"
      ],
      "execution_count": null,
      "outputs": [
        {
          "output_type": "execute_result",
          "data": {
            "text/plain": [
              "Text(0.5, 0, 'season')"
            ]
          },
          "metadata": {
            "tags": []
          },
          "execution_count": 28
        },
        {
          "output_type": "display_data",
          "data": {
            "image/png": "[encoded data removed]",
            "text/plain": [
              "<Figure size 864x864 with 1 Axes>"
            ]
          },
          "metadata": {
            "tags": [],
            "needs_background": "light"
          }
        }
      ]
    },
    {
      "cell_type": "markdown",
      "metadata": {
        "id": "01tjw4vU_WtW"
      },
      "source": [
        "                 * In almost every season highest margin in terms of wickets is 10 wickets except in 2014, 2019. "
      ]
    },
    {
      "cell_type": "code",
      "metadata": {
        "colab": {
          "base_uri": "https://localhost:8080/",
          "height": 280
        },
        "id": "_q2-Bd5QTEWX",
        "outputId": "8337af21-90ef-403f-af22-84942ce9dec7"
      },
      "source": [
        "ax = sns.countplot(x=\"win_by_wickets\", data=winning_margin)"
      ],
      "execution_count": null,
      "outputs": [
        {
          "output_type": "display_data",
          "data": {
            "image/png": "[encoded data removed]",
            "text/plain": [
              "<Figure size 432x288 with 1 Axes>"
            ]
          },
          "metadata": {
            "tags": [],
            "needs_background": "light"
          }
        }
      ]
    },
    {
      "cell_type": "markdown",
      "metadata": {
        "id": "j42QIBJx_8y0"
      },
      "source": [
        "                  * Counting the number unique from the previous graph, there are two 9- wickets winning margin and ten 10-wickets winning margin."
      ]
    },
    {
      "cell_type": "markdown",
      "metadata": {
        "id": "1c8vxWPAU7KD"
      },
      "source": [
        "#**3. Highest sum of score by team's in each season?**"
      ]
    },
    {
      "cell_type": "code",
      "metadata": {
        "colab": {
          "base_uri": "https://localhost:8080/",
          "height": 394
        },
        "id": "T7RXR78QUv3H",
        "outputId": "569df3d8-cd42-4cad-ae2c-2d30776fed33"
      },
      "source": [
        "#starting the analysis with the delivery data\n",
        "delivery_df.head()"
      ],
      "execution_count": null,
      "outputs": [
        {
          "output_type": "execute_result",
          "data": {
            "text/html": [
              "<div>\n",
              "<style scoped>\n",
              "    .dataframe tbody tr th:only-of-type {\n",
              "        vertical-align: middle;\n",
              "    }\n",
              "\n",
              "    .dataframe tbody tr th {\n",
              "        vertical-align: top;\n",
              "    }\n",
              "\n",
              "    .dataframe thead th {\n",
              "        text-align: right;\n",
              "    }\n",
              "</style>\n",
              "<table border=\"1\" class=\"dataframe\">\n",
              "  <thead>\n",
              "    <tr style=\"text-align: right;\">\n",
              "      <th></th>\n",
              "      <th>match_id</th>\n",
              "      <th>inning</th>\n",
              "      <th>batting_team</th>\n",
              "      <th>bowling_team</th>\n",
              "      <th>over</th>\n",
              "      <th>ball</th>\n",
              "      <th>batsman</th>\n",
              "      <th>non_striker</th>\n",
              "      <th>bowler</th>\n",
              "      <th>is_super_over</th>\n",
              "      <th>wide_runs</th>\n",
              "      <th>bye_runs</th>\n",
              "      <th>legbye_runs</th>\n",
              "      <th>noball_runs</th>\n",
              "      <th>penalty_runs</th>\n",
              "      <th>batsman_runs</th>\n",
              "      <th>extra_runs</th>\n",
              "      <th>total_runs</th>\n",
              "      <th>player_dismissed</th>\n",
              "      <th>dismissal_kind</th>\n",
              "      <th>fielder</th>\n",
              "    </tr>\n",
              "  </thead>\n",
              "  <tbody>\n",
              "    <tr>\n",
              "      <th>0</th>\n",
              "      <td>1</td>\n",
              "      <td>1</td>\n",
              "      <td>Sunrisers Hyderabad</td>\n",
              "      <td>Royal Challengers Bangalore</td>\n",
              "      <td>1</td>\n",
              "      <td>1</td>\n",
              "      <td>DA Warner</td>\n",
              "      <td>S Dhawan</td>\n",
              "      <td>TS Mills</td>\n",
              "      <td>0</td>\n",
              "      <td>0</td>\n",
              "      <td>0</td>\n",
              "      <td>0</td>\n",
              "      <td>0</td>\n",
              "      <td>0</td>\n",
              "      <td>0</td>\n",
              "      <td>0</td>\n",
              "      <td>0</td>\n",
              "      <td>NaN</td>\n",
              "      <td>NaN</td>\n",
              "      <td>NaN</td>\n",
              "    </tr>\n",
              "    <tr>\n",
              "      <th>1</th>\n",
              "      <td>1</td>\n",
              "      <td>1</td>\n",
              "      <td>Sunrisers Hyderabad</td>\n",
              "      <td>Royal Challengers Bangalore</td>\n",
              "      <td>1</td>\n",
              "      <td>2</td>\n",
              "      <td>DA Warner</td>\n",
              "      <td>S Dhawan</td>\n",
              "      <td>TS Mills</td>\n",
              "      <td>0</td>\n",
              "      <td>0</td>\n",
              "      <td>0</td>\n",
              "      <td>0</td>\n",
              "      <td>0</td>\n",
              "      <td>0</td>\n",
              "      <td>0</td>\n",
              "      <td>0</td>\n",
              "      <td>0</td>\n",
              "      <td>NaN</td>\n",
              "      <td>NaN</td>\n",
              "      <td>NaN</td>\n",
              "    </tr>\n",
              "    <tr>\n",
              "      <th>2</th>\n",
              "      <td>1</td>\n",
              "      <td>1</td>\n",
              "      <td>Sunrisers Hyderabad</td>\n",
              "      <td>Royal Challengers Bangalore</td>\n",
              "      <td>1</td>\n",
              "      <td>3</td>\n",
              "      <td>DA Warner</td>\n",
              "      <td>S Dhawan</td>\n",
              "      <td>TS Mills</td>\n",
              "      <td>0</td>\n",
              "      <td>0</td>\n",
              "      <td>0</td>\n",
              "      <td>0</td>\n",
              "      <td>0</td>\n",
              "      <td>0</td>\n",
              "      <td>4</td>\n",
              "      <td>0</td>\n",
              "      <td>4</td>\n",
              "      <td>NaN</td>\n",
              "      <td>NaN</td>\n",
              "      <td>NaN</td>\n",
              "    </tr>\n",
              "    <tr>\n",
              "      <th>3</th>\n",
              "      <td>1</td>\n",
              "      <td>1</td>\n",
              "      <td>Sunrisers Hyderabad</td>\n",
              "      <td>Royal Challengers Bangalore</td>\n",
              "      <td>1</td>\n",
              "      <td>4</td>\n",
              "      <td>DA Warner</td>\n",
              "      <td>S Dhawan</td>\n",
              "      <td>TS Mills</td>\n",
              "      <td>0</td>\n",
              "      <td>0</td>\n",
              "      <td>0</td>\n",
              "      <td>0</td>\n",
              "      <td>0</td>\n",
              "      <td>0</td>\n",
              "      <td>0</td>\n",
              "      <td>0</td>\n",
              "      <td>0</td>\n",
              "      <td>NaN</td>\n",
              "      <td>NaN</td>\n",
              "      <td>NaN</td>\n",
              "    </tr>\n",
              "    <tr>\n",
              "      <th>4</th>\n",
              "      <td>1</td>\n",
              "      <td>1</td>\n",
              "      <td>Sunrisers Hyderabad</td>\n",
              "      <td>Royal Challengers Bangalore</td>\n",
              "      <td>1</td>\n",
              "      <td>5</td>\n",
              "      <td>DA Warner</td>\n",
              "      <td>S Dhawan</td>\n",
              "      <td>TS Mills</td>\n",
              "      <td>0</td>\n",
              "      <td>2</td>\n",
              "      <td>0</td>\n",
              "      <td>0</td>\n",
              "      <td>0</td>\n",
              "      <td>0</td>\n",
              "      <td>0</td>\n",
              "      <td>2</td>\n",
              "      <td>2</td>\n",
              "      <td>NaN</td>\n",
              "      <td>NaN</td>\n",
              "      <td>NaN</td>\n",
              "    </tr>\n",
              "  </tbody>\n",
              "</table>\n",
              "</div>"
            ],
            "text/plain": [
              "   match_id  inning  ... dismissal_kind fielder\n",
              "0         1       1  ...            NaN     NaN\n",
              "1         1       1  ...            NaN     NaN\n",
              "2         1       1  ...            NaN     NaN\n",
              "3         1       1  ...            NaN     NaN\n",
              "4         1       1  ...            NaN     NaN\n",
              "\n",
              "[5 rows x 21 columns]"
            ]
          },
          "metadata": {
            "tags": []
          },
          "execution_count": 30
        }
      ]
    },
    {
      "cell_type": "code",
      "metadata": {
        "colab": {
          "base_uri": "https://localhost:8080/"
        },
        "id": "V7VkUiE_VaNv",
        "outputId": "7d091d3e-8ed4-4c15-fdee-fe1bf43eb52a"
      },
      "source": [
        "# features in the data\n",
        "delivery_df.columns"
      ],
      "execution_count": null,
      "outputs": [
        {
          "output_type": "execute_result",
          "data": {
            "text/plain": [
              "Index(['match_id', 'inning', 'batting_team', 'bowling_team', 'over', 'ball',\n",
              "       'batsman', 'non_striker', 'bowler', 'is_super_over', 'wide_runs',\n",
              "       'bye_runs', 'legbye_runs', 'noball_runs', 'penalty_runs',\n",
              "       'batsman_runs', 'extra_runs', 'total_runs', 'player_dismissed',\n",
              "       'dismissal_kind', 'fielder'],\n",
              "      dtype='object')"
            ]
          },
          "metadata": {
            "tags": []
          },
          "execution_count": 31
        }
      ]
    },
    {
      "cell_type": "code",
      "metadata": {
        "colab": {
          "base_uri": "https://localhost:8080/"
        },
        "id": "GL5CjZNtVe6U",
        "outputId": "43b4394c-c37f-4cf3-eb76-2286ecf90ad8"
      },
      "source": [
        "#basic info\n",
        "delivery_df.info()"
      ],
      "execution_count": null,
      "outputs": [
        {
          "output_type": "stream",
          "text": [
            "<class 'pandas.core.frame.DataFrame'>\n",
            "RangeIndex: 179078 entries, 0 to 179077\n",
            "Data columns (total 21 columns):\n",
            " #   Column            Non-Null Count   Dtype \n",
            "---  ------            --------------   ----- \n",
            " 0   match_id          179078 non-null  int64 \n",
            " 1   inning            179078 non-null  int64 \n",
            " 2   batting_team      179078 non-null  object\n",
            " 3   bowling_team      179078 non-null  object\n",
            " 4   over              179078 non-null  int64 \n",
            " 5   ball              179078 non-null  int64 \n",
            " 6   batsman           179078 non-null  object\n",
            " 7   non_striker       179078 non-null  object\n",
            " 8   bowler            179078 non-null  object\n",
            " 9   is_super_over     179078 non-null  int64 \n",
            " 10  wide_runs         179078 non-null  int64 \n",
            " 11  bye_runs          179078 non-null  int64 \n",
            " 12  legbye_runs       179078 non-null  int64 \n",
            " 13  noball_runs       179078 non-null  int64 \n",
            " 14  penalty_runs      179078 non-null  int64 \n",
            " 15  batsman_runs      179078 non-null  int64 \n",
            " 16  extra_runs        179078 non-null  int64 \n",
            " 17  total_runs        179078 non-null  int64 \n",
            " 18  player_dismissed  8834 non-null    object\n",
            " 19  dismissal_kind    8834 non-null    object\n",
            " 20  fielder           6448 non-null    object\n",
            "dtypes: int64(13), object(8)\n",
            "memory usage: 28.7+ MB\n"
          ],
          "name": "stdout"
        }
      ]
    },
    {
      "cell_type": "code",
      "metadata": {
        "colab": {
          "base_uri": "https://localhost:8080/",
          "height": 297
        },
        "id": "JcRJT5GEViHc",
        "outputId": "4a54d5f9-3b9a-4d96-9743-284bf910cd1e"
      },
      "source": [
        "#summary\n",
        "delivery_df.describe()"
      ],
      "execution_count": null,
      "outputs": [
        {
          "output_type": "execute_result",
          "data": {
            "text/html": [
              "<div>\n",
              "<style scoped>\n",
              "    .dataframe tbody tr th:only-of-type {\n",
              "        vertical-align: middle;\n",
              "    }\n",
              "\n",
              "    .dataframe tbody tr th {\n",
              "        vertical-align: top;\n",
              "    }\n",
              "\n",
              "    .dataframe thead th {\n",
              "        text-align: right;\n",
              "    }\n",
              "</style>\n",
              "<table border=\"1\" class=\"dataframe\">\n",
              "  <thead>\n",
              "    <tr style=\"text-align: right;\">\n",
              "      <th></th>\n",
              "      <th>match_id</th>\n",
              "      <th>inning</th>\n",
              "      <th>over</th>\n",
              "      <th>ball</th>\n",
              "      <th>is_super_over</th>\n",
              "      <th>wide_runs</th>\n",
              "      <th>bye_runs</th>\n",
              "      <th>legbye_runs</th>\n",
              "      <th>noball_runs</th>\n",
              "      <th>penalty_runs</th>\n",
              "      <th>batsman_runs</th>\n",
              "      <th>extra_runs</th>\n",
              "      <th>total_runs</th>\n",
              "    </tr>\n",
              "  </thead>\n",
              "  <tbody>\n",
              "    <tr>\n",
              "      <th>count</th>\n",
              "      <td>179078.000000</td>\n",
              "      <td>179078.000000</td>\n",
              "      <td>179078.000000</td>\n",
              "      <td>179078.000000</td>\n",
              "      <td>179078.000000</td>\n",
              "      <td>179078.000000</td>\n",
              "      <td>179078.000000</td>\n",
              "      <td>179078.000000</td>\n",
              "      <td>179078.000000</td>\n",
              "      <td>179078.000000</td>\n",
              "      <td>179078.000000</td>\n",
              "      <td>179078.000000</td>\n",
              "      <td>179078.000000</td>\n",
              "    </tr>\n",
              "    <tr>\n",
              "      <th>mean</th>\n",
              "      <td>1802.252957</td>\n",
              "      <td>1.482952</td>\n",
              "      <td>10.162488</td>\n",
              "      <td>3.615587</td>\n",
              "      <td>0.000452</td>\n",
              "      <td>0.036721</td>\n",
              "      <td>0.004936</td>\n",
              "      <td>0.021136</td>\n",
              "      <td>0.004183</td>\n",
              "      <td>0.000056</td>\n",
              "      <td>1.246864</td>\n",
              "      <td>0.067032</td>\n",
              "      <td>1.313897</td>\n",
              "    </tr>\n",
              "    <tr>\n",
              "      <th>std</th>\n",
              "      <td>3472.322805</td>\n",
              "      <td>0.502074</td>\n",
              "      <td>5.677684</td>\n",
              "      <td>1.806966</td>\n",
              "      <td>0.021263</td>\n",
              "      <td>0.251161</td>\n",
              "      <td>0.116480</td>\n",
              "      <td>0.194908</td>\n",
              "      <td>0.070492</td>\n",
              "      <td>0.016709</td>\n",
              "      <td>1.608270</td>\n",
              "      <td>0.342553</td>\n",
              "      <td>1.605422</td>\n",
              "    </tr>\n",
              "    <tr>\n",
              "      <th>min</th>\n",
              "      <td>1.000000</td>\n",
              "      <td>1.000000</td>\n",
              "      <td>1.000000</td>\n",
              "      <td>1.000000</td>\n",
              "      <td>0.000000</td>\n",
              "      <td>0.000000</td>\n",
              "      <td>0.000000</td>\n",
              "      <td>0.000000</td>\n",
              "      <td>0.000000</td>\n",
              "      <td>0.000000</td>\n",
              "      <td>0.000000</td>\n",
              "      <td>0.000000</td>\n",
              "      <td>0.000000</td>\n",
              "    </tr>\n",
              "    <tr>\n",
              "      <th>25%</th>\n",
              "      <td>190.000000</td>\n",
              "      <td>1.000000</td>\n",
              "      <td>5.000000</td>\n",
              "      <td>2.000000</td>\n",
              "      <td>0.000000</td>\n",
              "      <td>0.000000</td>\n",
              "      <td>0.000000</td>\n",
              "      <td>0.000000</td>\n",
              "      <td>0.000000</td>\n",
              "      <td>0.000000</td>\n",
              "      <td>0.000000</td>\n",
              "      <td>0.000000</td>\n",
              "      <td>0.000000</td>\n",
              "    </tr>\n",
              "    <tr>\n",
              "      <th>50%</th>\n",
              "      <td>379.000000</td>\n",
              "      <td>1.000000</td>\n",
              "      <td>10.000000</td>\n",
              "      <td>4.000000</td>\n",
              "      <td>0.000000</td>\n",
              "      <td>0.000000</td>\n",
              "      <td>0.000000</td>\n",
              "      <td>0.000000</td>\n",
              "      <td>0.000000</td>\n",
              "      <td>0.000000</td>\n",
              "      <td>1.000000</td>\n",
              "      <td>0.000000</td>\n",
              "      <td>1.000000</td>\n",
              "    </tr>\n",
              "    <tr>\n",
              "      <th>75%</th>\n",
              "      <td>567.000000</td>\n",
              "      <td>2.000000</td>\n",
              "      <td>15.000000</td>\n",
              "      <td>5.000000</td>\n",
              "      <td>0.000000</td>\n",
              "      <td>0.000000</td>\n",
              "      <td>0.000000</td>\n",
              "      <td>0.000000</td>\n",
              "      <td>0.000000</td>\n",
              "      <td>0.000000</td>\n",
              "      <td>1.000000</td>\n",
              "      <td>0.000000</td>\n",
              "      <td>1.000000</td>\n",
              "    </tr>\n",
              "    <tr>\n",
              "      <th>max</th>\n",
              "      <td>11415.000000</td>\n",
              "      <td>5.000000</td>\n",
              "      <td>20.000000</td>\n",
              "      <td>9.000000</td>\n",
              "      <td>1.000000</td>\n",
              "      <td>5.000000</td>\n",
              "      <td>4.000000</td>\n",
              "      <td>5.000000</td>\n",
              "      <td>5.000000</td>\n",
              "      <td>5.000000</td>\n",
              "      <td>7.000000</td>\n",
              "      <td>7.000000</td>\n",
              "      <td>10.000000</td>\n",
              "    </tr>\n",
              "  </tbody>\n",
              "</table>\n",
              "</div>"
            ],
            "text/plain": [
              "            match_id         inning  ...     extra_runs     total_runs\n",
              "count  179078.000000  179078.000000  ...  179078.000000  179078.000000\n",
              "mean     1802.252957       1.482952  ...       0.067032       1.313897\n",
              "std      3472.322805       0.502074  ...       0.342553       1.605422\n",
              "min         1.000000       1.000000  ...       0.000000       0.000000\n",
              "25%       190.000000       1.000000  ...       0.000000       0.000000\n",
              "50%       379.000000       1.000000  ...       0.000000       1.000000\n",
              "75%       567.000000       2.000000  ...       0.000000       1.000000\n",
              "max     11415.000000       5.000000  ...       7.000000      10.000000\n",
              "\n",
              "[8 rows x 13 columns]"
            ]
          },
          "metadata": {
            "tags": []
          },
          "execution_count": 33
        }
      ]
    },
    {
      "cell_type": "code",
      "metadata": {
        "colab": {
          "base_uri": "https://localhost:8080/",
          "height": 564
        },
        "id": "913mhHk1VnBL",
        "outputId": "12b724db-5e9b-4da0-ff36-175790fb2b48"
      },
      "source": [
        "#merging the data\n",
        "merge_df=pd.merge(matches_df,delivery_df,left_on='id',right_on='match_id')\n",
        "merge_df.head()"
      ],
      "execution_count": null,
      "outputs": [
        {
          "output_type": "execute_result",
          "data": {
            "text/html": [
              "<div>\n",
              "<style scoped>\n",
              "    .dataframe tbody tr th:only-of-type {\n",
              "        vertical-align: middle;\n",
              "    }\n",
              "\n",
              "    .dataframe tbody tr th {\n",
              "        vertical-align: top;\n",
              "    }\n",
              "\n",
              "    .dataframe thead th {\n",
              "        text-align: right;\n",
              "    }\n",
              "</style>\n",
              "<table border=\"1\" class=\"dataframe\">\n",
              "  <thead>\n",
              "    <tr style=\"text-align: right;\">\n",
              "      <th></th>\n",
              "      <th>id</th>\n",
              "      <th>Season</th>\n",
              "      <th>city</th>\n",
              "      <th>date</th>\n",
              "      <th>team1</th>\n",
              "      <th>team2</th>\n",
              "      <th>toss_winner</th>\n",
              "      <th>toss_decision</th>\n",
              "      <th>result</th>\n",
              "      <th>dl_applied</th>\n",
              "      <th>winner</th>\n",
              "      <th>win_by_runs</th>\n",
              "      <th>win_by_wickets</th>\n",
              "      <th>player_of_match</th>\n",
              "      <th>venue</th>\n",
              "      <th>umpire1</th>\n",
              "      <th>umpire2</th>\n",
              "      <th>umpire3</th>\n",
              "      <th>match_id</th>\n",
              "      <th>inning</th>\n",
              "      <th>batting_team</th>\n",
              "      <th>bowling_team</th>\n",
              "      <th>over</th>\n",
              "      <th>ball</th>\n",
              "      <th>batsman</th>\n",
              "      <th>non_striker</th>\n",
              "      <th>bowler</th>\n",
              "      <th>is_super_over</th>\n",
              "      <th>wide_runs</th>\n",
              "      <th>bye_runs</th>\n",
              "      <th>legbye_runs</th>\n",
              "      <th>noball_runs</th>\n",
              "      <th>penalty_runs</th>\n",
              "      <th>batsman_runs</th>\n",
              "      <th>extra_runs</th>\n",
              "      <th>total_runs</th>\n",
              "      <th>player_dismissed</th>\n",
              "      <th>dismissal_kind</th>\n",
              "      <th>fielder</th>\n",
              "    </tr>\n",
              "  </thead>\n",
              "  <tbody>\n",
              "    <tr>\n",
              "      <th>0</th>\n",
              "      <td>1</td>\n",
              "      <td>IPL-2017</td>\n",
              "      <td>Hyderabad</td>\n",
              "      <td>05-04-2017</td>\n",
              "      <td>Sunrisers Hyderabad</td>\n",
              "      <td>Royal Challengers Bangalore</td>\n",
              "      <td>Royal Challengers Bangalore</td>\n",
              "      <td>field</td>\n",
              "      <td>normal</td>\n",
              "      <td>0</td>\n",
              "      <td>Sunrisers Hyderabad</td>\n",
              "      <td>35</td>\n",
              "      <td>0</td>\n",
              "      <td>Yuvraj Singh</td>\n",
              "      <td>Rajiv Gandhi International Stadium, Uppal</td>\n",
              "      <td>AY Dandekar</td>\n",
              "      <td>NJ Llong</td>\n",
              "      <td>NaN</td>\n",
              "      <td>1</td>\n",
              "      <td>1</td>\n",
              "      <td>Sunrisers Hyderabad</td>\n",
              "      <td>Royal Challengers Bangalore</td>\n",
              "      <td>1</td>\n",
              "      <td>1</td>\n",
              "      <td>DA Warner</td>\n",
              "      <td>S Dhawan</td>\n",
              "      <td>TS Mills</td>\n",
              "      <td>0</td>\n",
              "      <td>0</td>\n",
              "      <td>0</td>\n",
              "      <td>0</td>\n",
              "      <td>0</td>\n",
              "      <td>0</td>\n",
              "      <td>0</td>\n",
              "      <td>0</td>\n",
              "      <td>0</td>\n",
              "      <td>NaN</td>\n",
              "      <td>NaN</td>\n",
              "      <td>NaN</td>\n",
              "    </tr>\n",
              "    <tr>\n",
              "      <th>1</th>\n",
              "      <td>1</td>\n",
              "      <td>IPL-2017</td>\n",
              "      <td>Hyderabad</td>\n",
              "      <td>05-04-2017</td>\n",
              "      <td>Sunrisers Hyderabad</td>\n",
              "      <td>Royal Challengers Bangalore</td>\n",
              "      <td>Royal Challengers Bangalore</td>\n",
              "      <td>field</td>\n",
              "      <td>normal</td>\n",
              "      <td>0</td>\n",
              "      <td>Sunrisers Hyderabad</td>\n",
              "      <td>35</td>\n",
              "      <td>0</td>\n",
              "      <td>Yuvraj Singh</td>\n",
              "      <td>Rajiv Gandhi International Stadium, Uppal</td>\n",
              "      <td>AY Dandekar</td>\n",
              "      <td>NJ Llong</td>\n",
              "      <td>NaN</td>\n",
              "      <td>1</td>\n",
              "      <td>1</td>\n",
              "      <td>Sunrisers Hyderabad</td>\n",
              "      <td>Royal Challengers Bangalore</td>\n",
              "      <td>1</td>\n",
              "      <td>2</td>\n",
              "      <td>DA Warner</td>\n",
              "      <td>S Dhawan</td>\n",
              "      <td>TS Mills</td>\n",
              "      <td>0</td>\n",
              "      <td>0</td>\n",
              "      <td>0</td>\n",
              "      <td>0</td>\n",
              "      <td>0</td>\n",
              "      <td>0</td>\n",
              "      <td>0</td>\n",
              "      <td>0</td>\n",
              "      <td>0</td>\n",
              "      <td>NaN</td>\n",
              "      <td>NaN</td>\n",
              "      <td>NaN</td>\n",
              "    </tr>\n",
              "    <tr>\n",
              "      <th>2</th>\n",
              "      <td>1</td>\n",
              "      <td>IPL-2017</td>\n",
              "      <td>Hyderabad</td>\n",
              "      <td>05-04-2017</td>\n",
              "      <td>Sunrisers Hyderabad</td>\n",
              "      <td>Royal Challengers Bangalore</td>\n",
              "      <td>Royal Challengers Bangalore</td>\n",
              "      <td>field</td>\n",
              "      <td>normal</td>\n",
              "      <td>0</td>\n",
              "      <td>Sunrisers Hyderabad</td>\n",
              "      <td>35</td>\n",
              "      <td>0</td>\n",
              "      <td>Yuvraj Singh</td>\n",
              "      <td>Rajiv Gandhi International Stadium, Uppal</td>\n",
              "      <td>AY Dandekar</td>\n",
              "      <td>NJ Llong</td>\n",
              "      <td>NaN</td>\n",
              "      <td>1</td>\n",
              "      <td>1</td>\n",
              "      <td>Sunrisers Hyderabad</td>\n",
              "      <td>Royal Challengers Bangalore</td>\n",
              "      <td>1</td>\n",
              "      <td>3</td>\n",
              "      <td>DA Warner</td>\n",
              "      <td>S Dhawan</td>\n",
              "      <td>TS Mills</td>\n",
              "      <td>0</td>\n",
              "      <td>0</td>\n",
              "      <td>0</td>\n",
              "      <td>0</td>\n",
              "      <td>0</td>\n",
              "      <td>0</td>\n",
              "      <td>4</td>\n",
              "      <td>0</td>\n",
              "      <td>4</td>\n",
              "      <td>NaN</td>\n",
              "      <td>NaN</td>\n",
              "      <td>NaN</td>\n",
              "    </tr>\n",
              "    <tr>\n",
              "      <th>3</th>\n",
              "      <td>1</td>\n",
              "      <td>IPL-2017</td>\n",
              "      <td>Hyderabad</td>\n",
              "      <td>05-04-2017</td>\n",
              "      <td>Sunrisers Hyderabad</td>\n",
              "      <td>Royal Challengers Bangalore</td>\n",
              "      <td>Royal Challengers Bangalore</td>\n",
              "      <td>field</td>\n",
              "      <td>normal</td>\n",
              "      <td>0</td>\n",
              "      <td>Sunrisers Hyderabad</td>\n",
              "      <td>35</td>\n",
              "      <td>0</td>\n",
              "      <td>Yuvraj Singh</td>\n",
              "      <td>Rajiv Gandhi International Stadium, Uppal</td>\n",
              "      <td>AY Dandekar</td>\n",
              "      <td>NJ Llong</td>\n",
              "      <td>NaN</td>\n",
              "      <td>1</td>\n",
              "      <td>1</td>\n",
              "      <td>Sunrisers Hyderabad</td>\n",
              "      <td>Royal Challengers Bangalore</td>\n",
              "      <td>1</td>\n",
              "      <td>4</td>\n",
              "      <td>DA Warner</td>\n",
              "      <td>S Dhawan</td>\n",
              "      <td>TS Mills</td>\n",
              "      <td>0</td>\n",
              "      <td>0</td>\n",
              "      <td>0</td>\n",
              "      <td>0</td>\n",
              "      <td>0</td>\n",
              "      <td>0</td>\n",
              "      <td>0</td>\n",
              "      <td>0</td>\n",
              "      <td>0</td>\n",
              "      <td>NaN</td>\n",
              "      <td>NaN</td>\n",
              "      <td>NaN</td>\n",
              "    </tr>\n",
              "    <tr>\n",
              "      <th>4</th>\n",
              "      <td>1</td>\n",
              "      <td>IPL-2017</td>\n",
              "      <td>Hyderabad</td>\n",
              "      <td>05-04-2017</td>\n",
              "      <td>Sunrisers Hyderabad</td>\n",
              "      <td>Royal Challengers Bangalore</td>\n",
              "      <td>Royal Challengers Bangalore</td>\n",
              "      <td>field</td>\n",
              "      <td>normal</td>\n",
              "      <td>0</td>\n",
              "      <td>Sunrisers Hyderabad</td>\n",
              "      <td>35</td>\n",
              "      <td>0</td>\n",
              "      <td>Yuvraj Singh</td>\n",
              "      <td>Rajiv Gandhi International Stadium, Uppal</td>\n",
              "      <td>AY Dandekar</td>\n",
              "      <td>NJ Llong</td>\n",
              "      <td>NaN</td>\n",
              "      <td>1</td>\n",
              "      <td>1</td>\n",
              "      <td>Sunrisers Hyderabad</td>\n",
              "      <td>Royal Challengers Bangalore</td>\n",
              "      <td>1</td>\n",
              "      <td>5</td>\n",
              "      <td>DA Warner</td>\n",
              "      <td>S Dhawan</td>\n",
              "      <td>TS Mills</td>\n",
              "      <td>0</td>\n",
              "      <td>2</td>\n",
              "      <td>0</td>\n",
              "      <td>0</td>\n",
              "      <td>0</td>\n",
              "      <td>0</td>\n",
              "      <td>0</td>\n",
              "      <td>2</td>\n",
              "      <td>2</td>\n",
              "      <td>NaN</td>\n",
              "      <td>NaN</td>\n",
              "      <td>NaN</td>\n",
              "    </tr>\n",
              "  </tbody>\n",
              "</table>\n",
              "</div>"
            ],
            "text/plain": [
              "   id    Season       city  ... player_dismissed dismissal_kind fielder\n",
              "0   1  IPL-2017  Hyderabad  ...              NaN            NaN     NaN\n",
              "1   1  IPL-2017  Hyderabad  ...              NaN            NaN     NaN\n",
              "2   1  IPL-2017  Hyderabad  ...              NaN            NaN     NaN\n",
              "3   1  IPL-2017  Hyderabad  ...              NaN            NaN     NaN\n",
              "4   1  IPL-2017  Hyderabad  ...              NaN            NaN     NaN\n",
              "\n",
              "[5 rows x 39 columns]"
            ]
          },
          "metadata": {
            "tags": []
          },
          "execution_count": 34
        }
      ]
    },
    {
      "cell_type": "markdown",
      "metadata": {
        "id": "8UZyOBvXBKRw"
      },
      "source": [
        "               * Merged dataframe formed by commom id in matches and delivery dataframes respectively."
      ]
    },
    {
      "cell_type": "code",
      "metadata": {
        "colab": {
          "base_uri": "https://localhost:8080/"
        },
        "id": "8hr1Y_V6Vy4q",
        "outputId": "6a6ce89f-6061-409e-e5f7-f3063d1003c1"
      },
      "source": [
        "#info\n",
        "merge_df.info()"
      ],
      "execution_count": null,
      "outputs": [
        {
          "output_type": "stream",
          "text": [
            "<class 'pandas.core.frame.DataFrame'>\n",
            "Int64Index: 179078 entries, 0 to 179077\n",
            "Data columns (total 39 columns):\n",
            " #   Column            Non-Null Count   Dtype \n",
            "---  ------            --------------   ----- \n",
            " 0   id                179078 non-null  int64 \n",
            " 1   Season            179078 non-null  object\n",
            " 2   city              177378 non-null  object\n",
            " 3   date              179078 non-null  object\n",
            " 4   team1             179078 non-null  object\n",
            " 5   team2             179078 non-null  object\n",
            " 6   toss_winner       179078 non-null  object\n",
            " 7   toss_decision     179078 non-null  object\n",
            " 8   result            179078 non-null  object\n",
            " 9   dl_applied        179078 non-null  int64 \n",
            " 10  winner            178706 non-null  object\n",
            " 11  win_by_runs       179078 non-null  int64 \n",
            " 12  win_by_wickets    179078 non-null  int64 \n",
            " 13  player_of_match   178706 non-null  object\n",
            " 14  venue             179078 non-null  object\n",
            " 15  umpire1           178578 non-null  object\n",
            " 16  umpire2           178578 non-null  object\n",
            " 17  umpire3           28366 non-null   object\n",
            " 18  match_id          179078 non-null  int64 \n",
            " 19  inning            179078 non-null  int64 \n",
            " 20  batting_team      179078 non-null  object\n",
            " 21  bowling_team      179078 non-null  object\n",
            " 22  over              179078 non-null  int64 \n",
            " 23  ball              179078 non-null  int64 \n",
            " 24  batsman           179078 non-null  object\n",
            " 25  non_striker       179078 non-null  object\n",
            " 26  bowler            179078 non-null  object\n",
            " 27  is_super_over     179078 non-null  int64 \n",
            " 28  wide_runs         179078 non-null  int64 \n",
            " 29  bye_runs          179078 non-null  int64 \n",
            " 30  legbye_runs       179078 non-null  int64 \n",
            " 31  noball_runs       179078 non-null  int64 \n",
            " 32  penalty_runs      179078 non-null  int64 \n",
            " 33  batsman_runs      179078 non-null  int64 \n",
            " 34  extra_runs        179078 non-null  int64 \n",
            " 35  total_runs        179078 non-null  int64 \n",
            " 36  player_dismissed  8834 non-null    object\n",
            " 37  dismissal_kind    8834 non-null    object\n",
            " 38  fielder           6448 non-null    object\n",
            "dtypes: int64(17), object(22)\n",
            "memory usage: 54.7+ MB\n"
          ],
          "name": "stdout"
        }
      ]
    },
    {
      "cell_type": "code",
      "metadata": {
        "colab": {
          "base_uri": "https://localhost:8080/"
        },
        "id": "8RpaxrL4V7wZ",
        "outputId": "6d9ecff1-4f4d-4261-a8e1-84a4bfdc78ea"
      },
      "source": [
        "#columns\n",
        "merge_df.columns"
      ],
      "execution_count": null,
      "outputs": [
        {
          "output_type": "execute_result",
          "data": {
            "text/plain": [
              "Index(['id', 'Season', 'city', 'date', 'team1', 'team2', 'toss_winner',\n",
              "       'toss_decision', 'result', 'dl_applied', 'winner', 'win_by_runs',\n",
              "       'win_by_wickets', 'player_of_match', 'venue', 'umpire1', 'umpire2',\n",
              "       'umpire3', 'match_id', 'inning', 'batting_team', 'bowling_team', 'over',\n",
              "       'ball', 'batsman', 'non_striker', 'bowler', 'is_super_over',\n",
              "       'wide_runs', 'bye_runs', 'legbye_runs', 'noball_runs', 'penalty_runs',\n",
              "       'batsman_runs', 'extra_runs', 'total_runs', 'player_dismissed',\n",
              "       'dismissal_kind', 'fielder'],\n",
              "      dtype='object')"
            ]
          },
          "metadata": {
            "tags": []
          },
          "execution_count": 36
        }
      ]
    },
    {
      "cell_type": "code",
      "metadata": {
        "colab": {
          "base_uri": "https://localhost:8080/",
          "height": 204
        },
        "id": "NV5ef4J8WIN3",
        "outputId": "5e33ecea-f86a-4bcd-8f14-218783b24d33"
      },
      "source": [
        "#grouping....\n",
        "team_runs_in_each_season=merge_df.groupby(['Season', 'batting_team'],as_index=False).agg({'batsman_runs': \"sum\"}).sort_values(by='Season')\n",
        "team_runs_in_each_season.head()"
      ],
      "execution_count": null,
      "outputs": [
        {
          "output_type": "execute_result",
          "data": {
            "text/html": [
              "<div>\n",
              "<style scoped>\n",
              "    .dataframe tbody tr th:only-of-type {\n",
              "        vertical-align: middle;\n",
              "    }\n",
              "\n",
              "    .dataframe tbody tr th {\n",
              "        vertical-align: top;\n",
              "    }\n",
              "\n",
              "    .dataframe thead th {\n",
              "        text-align: right;\n",
              "    }\n",
              "</style>\n",
              "<table border=\"1\" class=\"dataframe\">\n",
              "  <thead>\n",
              "    <tr style=\"text-align: right;\">\n",
              "      <th></th>\n",
              "      <th>Season</th>\n",
              "      <th>batting_team</th>\n",
              "      <th>batsman_runs</th>\n",
              "    </tr>\n",
              "  </thead>\n",
              "  <tbody>\n",
              "    <tr>\n",
              "      <th>0</th>\n",
              "      <td>IPL-2008</td>\n",
              "      <td>Chennai Super Kings</td>\n",
              "      <td>2365</td>\n",
              "    </tr>\n",
              "    <tr>\n",
              "      <th>1</th>\n",
              "      <td>IPL-2008</td>\n",
              "      <td>Deccan Chargers</td>\n",
              "      <td>2117</td>\n",
              "    </tr>\n",
              "    <tr>\n",
              "      <th>2</th>\n",
              "      <td>IPL-2008</td>\n",
              "      <td>Delhi Daredevils</td>\n",
              "      <td>2000</td>\n",
              "    </tr>\n",
              "    <tr>\n",
              "      <th>3</th>\n",
              "      <td>IPL-2008</td>\n",
              "      <td>Kings XI Punjab</td>\n",
              "      <td>2340</td>\n",
              "    </tr>\n",
              "    <tr>\n",
              "      <th>4</th>\n",
              "      <td>IPL-2008</td>\n",
              "      <td>Kolkata Knight Riders</td>\n",
              "      <td>1801</td>\n",
              "    </tr>\n",
              "  </tbody>\n",
              "</table>\n",
              "</div>"
            ],
            "text/plain": [
              "     Season           batting_team  batsman_runs\n",
              "0  IPL-2008    Chennai Super Kings          2365\n",
              "1  IPL-2008        Deccan Chargers          2117\n",
              "2  IPL-2008       Delhi Daredevils          2000\n",
              "3  IPL-2008        Kings XI Punjab          2340\n",
              "4  IPL-2008  Kolkata Knight Riders          1801"
            ]
          },
          "metadata": {
            "tags": []
          },
          "execution_count": 39
        }
      ]
    },
    {
      "cell_type": "markdown",
      "metadata": {
        "id": "lIT5nErXB2Zy"
      },
      "source": [
        "              * Grouping the dataframe according to the season and batting team , then getting the sum of the batsmen runs for each team in each season."
      ]
    },
    {
      "cell_type": "code",
      "metadata": {
        "colab": {
          "base_uri": "https://localhost:8080/"
        },
        "id": "N_BQM24sWToR",
        "outputId": "50bc6749-b4d8-4a0f-9b41-8cce2869f34f"
      },
      "source": [
        "#info..\n",
        "team_runs_in_each_season.info()"
      ],
      "execution_count": null,
      "outputs": [
        {
          "output_type": "stream",
          "text": [
            "<class 'pandas.core.frame.DataFrame'>\n",
            "Int64Index: 100 entries, 0 to 99\n",
            "Data columns (total 3 columns):\n",
            " #   Column        Non-Null Count  Dtype \n",
            "---  ------        --------------  ----- \n",
            " 0   Season        100 non-null    object\n",
            " 1   batting_team  100 non-null    object\n",
            " 2   batsman_runs  100 non-null    int64 \n",
            "dtypes: int64(1), object(2)\n",
            "memory usage: 3.1+ KB\n"
          ],
          "name": "stdout"
        }
      ]
    },
    {
      "cell_type": "code",
      "metadata": {
        "colab": {
          "base_uri": "https://localhost:8080/"
        },
        "id": "XpTn25y9WnV7",
        "outputId": "22792960-f547-4c68-bf19-941bec3131c9"
      },
      "source": [
        "#maximum total team score in a season...\n",
        "team_runs=[]\n",
        "\n",
        "for i in Total_seasons:\n",
        "  season1=team_runs_in_each_season[team_runs_in_each_season['Season']==i]\n",
        "  team_runs.append(season1['batsman_runs'].max())\n",
        "\n",
        "team_runs"
      ],
      "execution_count": null,
      "outputs": [
        {
          "output_type": "execute_result",
          "data": {
            "text/plain": [
              "[2424, 2283, 2553, 2461, 2716, 2845, 2824, 2611, 2863, 2633, 2809, 2676]"
            ]
          },
          "metadata": {
            "tags": []
          },
          "execution_count": 42
        }
      ]
    },
    {
      "cell_type": "markdown",
      "metadata": {
        "id": "bymAYNwWDGrI"
      },
      "source": [
        "                 * Storing the maximum total team score in every season."
      ]
    },
    {
      "cell_type": "code",
      "metadata": {
        "colab": {
          "base_uri": "https://localhost:8080/"
        },
        "id": "a30-ShMCWraA",
        "outputId": "69154748-2722-45fc-a586-cec4fbdf7e58"
      },
      "source": [
        "#Storing the team name of maximum total team score in every season\n",
        "team_name=[]\n",
        "for i in team_runs:\n",
        "  name=team_runs_in_each_season[team_runs_in_each_season['batsman_runs']==i]\n",
        "  team_name.append(name['batting_team'].unique())\n",
        "\n",
        "print(team_name)"
      ],
      "execution_count": null,
      "outputs": [
        {
          "output_type": "stream",
          "text": [
            "[array(['Rajasthan Royals'], dtype=object), array(['Deccan Chargers'], dtype=object), array(['Mumbai Indians'], dtype=object), array(['Chennai Super Kings', 'Sunrisers Hyderabad'], dtype=object), array(['Chennai Super Kings'], dtype=object), array(['Mumbai Indians'], dtype=object), array(['Kings XI Punjab'], dtype=object), array(['Mumbai Indians'], dtype=object), array(['Royal Challengers Bangalore'], dtype=object), array(['Mumbai Indians'], dtype=object), array(['Chennai Super Kings'], dtype=object), array(['Mumbai Indians'], dtype=object)]\n"
          ],
          "name": "stdout"
        }
      ]
    },
    {
      "cell_type": "markdown",
      "metadata": {
        "id": "jDB-yz-1DUMD"
      },
      "source": [
        "                 * Storing the team name of  maximum total team score in every season."
      ]
    },
    {
      "cell_type": "code",
      "metadata": {
        "colab": {
          "base_uri": "https://localhost:8080/",
          "height": 421
        },
        "id": "oqZfOu_aWwC2",
        "outputId": "adb75a19-43c3-4287-fda8-936512c6ea81"
      },
      "source": [
        "#creating df\n",
        "max_runs_by_team=pd.DataFrame({'season':Total_seasons,\n",
        "                               'teams_with_max_runs_in_season':team_name,\n",
        "                               'max_runs_in_season':team_runs\n",
        "                               \n",
        "})\n",
        "max_runs_by_team"
      ],
      "execution_count": null,
      "outputs": [
        {
          "output_type": "execute_result",
          "data": {
            "text/html": [
              "<div>\n",
              "<style scoped>\n",
              "    .dataframe tbody tr th:only-of-type {\n",
              "        vertical-align: middle;\n",
              "    }\n",
              "\n",
              "    .dataframe tbody tr th {\n",
              "        vertical-align: top;\n",
              "    }\n",
              "\n",
              "    .dataframe thead th {\n",
              "        text-align: right;\n",
              "    }\n",
              "</style>\n",
              "<table border=\"1\" class=\"dataframe\">\n",
              "  <thead>\n",
              "    <tr style=\"text-align: right;\">\n",
              "      <th></th>\n",
              "      <th>season</th>\n",
              "      <th>teams_with_max_runs_in_season</th>\n",
              "      <th>max_runs_in_season</th>\n",
              "    </tr>\n",
              "  </thead>\n",
              "  <tbody>\n",
              "    <tr>\n",
              "      <th>0</th>\n",
              "      <td>IPL-2008</td>\n",
              "      <td>[Rajasthan Royals]</td>\n",
              "      <td>2424</td>\n",
              "    </tr>\n",
              "    <tr>\n",
              "      <th>1</th>\n",
              "      <td>IPL-2009</td>\n",
              "      <td>[Deccan Chargers]</td>\n",
              "      <td>2283</td>\n",
              "    </tr>\n",
              "    <tr>\n",
              "      <th>2</th>\n",
              "      <td>IPL-2010</td>\n",
              "      <td>[Mumbai Indians]</td>\n",
              "      <td>2553</td>\n",
              "    </tr>\n",
              "    <tr>\n",
              "      <th>3</th>\n",
              "      <td>IPL-2011</td>\n",
              "      <td>[Chennai Super Kings, Sunrisers Hyderabad]</td>\n",
              "      <td>2461</td>\n",
              "    </tr>\n",
              "    <tr>\n",
              "      <th>4</th>\n",
              "      <td>IPL-2012</td>\n",
              "      <td>[Chennai Super Kings]</td>\n",
              "      <td>2716</td>\n",
              "    </tr>\n",
              "    <tr>\n",
              "      <th>5</th>\n",
              "      <td>IPL-2013</td>\n",
              "      <td>[Mumbai Indians]</td>\n",
              "      <td>2845</td>\n",
              "    </tr>\n",
              "    <tr>\n",
              "      <th>6</th>\n",
              "      <td>IPL-2014</td>\n",
              "      <td>[Kings XI Punjab]</td>\n",
              "      <td>2824</td>\n",
              "    </tr>\n",
              "    <tr>\n",
              "      <th>7</th>\n",
              "      <td>IPL-2015</td>\n",
              "      <td>[Mumbai Indians]</td>\n",
              "      <td>2611</td>\n",
              "    </tr>\n",
              "    <tr>\n",
              "      <th>8</th>\n",
              "      <td>IPL-2016</td>\n",
              "      <td>[Royal Challengers Bangalore]</td>\n",
              "      <td>2863</td>\n",
              "    </tr>\n",
              "    <tr>\n",
              "      <th>9</th>\n",
              "      <td>IPL-2017</td>\n",
              "      <td>[Mumbai Indians]</td>\n",
              "      <td>2633</td>\n",
              "    </tr>\n",
              "    <tr>\n",
              "      <th>10</th>\n",
              "      <td>IPL-2018</td>\n",
              "      <td>[Chennai Super Kings]</td>\n",
              "      <td>2809</td>\n",
              "    </tr>\n",
              "    <tr>\n",
              "      <th>11</th>\n",
              "      <td>IPL-2019</td>\n",
              "      <td>[Mumbai Indians]</td>\n",
              "      <td>2676</td>\n",
              "    </tr>\n",
              "  </tbody>\n",
              "</table>\n",
              "</div>"
            ],
            "text/plain": [
              "      season               teams_with_max_runs_in_season  max_runs_in_season\n",
              "0   IPL-2008                          [Rajasthan Royals]                2424\n",
              "1   IPL-2009                           [Deccan Chargers]                2283\n",
              "2   IPL-2010                            [Mumbai Indians]                2553\n",
              "3   IPL-2011  [Chennai Super Kings, Sunrisers Hyderabad]                2461\n",
              "4   IPL-2012                       [Chennai Super Kings]                2716\n",
              "5   IPL-2013                            [Mumbai Indians]                2845\n",
              "6   IPL-2014                           [Kings XI Punjab]                2824\n",
              "7   IPL-2015                            [Mumbai Indians]                2611\n",
              "8   IPL-2016               [Royal Challengers Bangalore]                2863\n",
              "9   IPL-2017                            [Mumbai Indians]                2633\n",
              "10  IPL-2018                       [Chennai Super Kings]                2809\n",
              "11  IPL-2019                            [Mumbai Indians]                2676"
            ]
          },
          "metadata": {
            "tags": []
          },
          "execution_count": 47
        }
      ]
    },
    {
      "cell_type": "markdown",
      "metadata": {
        "id": "H-w9tgWMDk8l"
      },
      "source": [
        "                      * Created dataframe using total team runs , team names and seasons"
      ]
    },
    {
      "cell_type": "code",
      "metadata": {
        "colab": {
          "base_uri": "https://localhost:8080/",
          "height": 297
        },
        "id": "6ViZI__cW3Rz",
        "outputId": "ed714d88-09d4-43bf-a0d3-31d04cf8624f"
      },
      "source": [
        "#fetching summary of df\n",
        "max_runs_by_team.describe()"
      ],
      "execution_count": null,
      "outputs": [
        {
          "output_type": "execute_result",
          "data": {
            "text/html": [
              "<div>\n",
              "<style scoped>\n",
              "    .dataframe tbody tr th:only-of-type {\n",
              "        vertical-align: middle;\n",
              "    }\n",
              "\n",
              "    .dataframe tbody tr th {\n",
              "        vertical-align: top;\n",
              "    }\n",
              "\n",
              "    .dataframe thead th {\n",
              "        text-align: right;\n",
              "    }\n",
              "</style>\n",
              "<table border=\"1\" class=\"dataframe\">\n",
              "  <thead>\n",
              "    <tr style=\"text-align: right;\">\n",
              "      <th></th>\n",
              "      <th>max_runs_in_season</th>\n",
              "    </tr>\n",
              "  </thead>\n",
              "  <tbody>\n",
              "    <tr>\n",
              "      <th>count</th>\n",
              "      <td>12.000000</td>\n",
              "    </tr>\n",
              "    <tr>\n",
              "      <th>mean</th>\n",
              "      <td>2641.500000</td>\n",
              "    </tr>\n",
              "    <tr>\n",
              "      <th>std</th>\n",
              "      <td>184.839242</td>\n",
              "    </tr>\n",
              "    <tr>\n",
              "      <th>min</th>\n",
              "      <td>2283.000000</td>\n",
              "    </tr>\n",
              "    <tr>\n",
              "      <th>25%</th>\n",
              "      <td>2530.000000</td>\n",
              "    </tr>\n",
              "    <tr>\n",
              "      <th>50%</th>\n",
              "      <td>2654.500000</td>\n",
              "    </tr>\n",
              "    <tr>\n",
              "      <th>75%</th>\n",
              "      <td>2812.750000</td>\n",
              "    </tr>\n",
              "    <tr>\n",
              "      <th>max</th>\n",
              "      <td>2863.000000</td>\n",
              "    </tr>\n",
              "  </tbody>\n",
              "</table>\n",
              "</div>"
            ],
            "text/plain": [
              "       max_runs_in_season\n",
              "count           12.000000\n",
              "mean          2641.500000\n",
              "std            184.839242\n",
              "min           2283.000000\n",
              "25%           2530.000000\n",
              "50%           2654.500000\n",
              "75%           2812.750000\n",
              "max           2863.000000"
            ]
          },
          "metadata": {
            "tags": []
          },
          "execution_count": 48
        }
      ]
    },
    {
      "cell_type": "markdown",
      "metadata": {
        "id": "Pq_rG09lD7sZ"
      },
      "source": [
        "                      * Mean , minimum, maximum value is determined."
      ]
    },
    {
      "cell_type": "code",
      "metadata": {
        "colab": {
          "base_uri": "https://localhost:8080/",
          "height": 772
        },
        "id": "uWheVreoXEos",
        "outputId": "8af024c4-30f7-47e6-8af9-a2fd457dc3a2"
      },
      "source": [
        "#ploting....\n",
        "a=list(max_runs_by_team['max_runs_in_season'])\n",
        "b=list(max_runs_by_team['teams_with_max_runs_in_season'])\n",
        "ax=max_runs_by_team.plot.bar( x=\"teams_with_max_runs_in_season\", y=\"max_runs_in_season\", rot=1000,figsize =(18,6),fontsize= 15)\n",
        "plt.title(\"Teams with max runs in season \",fontsize= 25, fontweight = 'bold')\n",
        "rects=ax.patches\n",
        "labels=[2008,2009,2010,2011,2012,2013,2014,2015,2016,2017,2018,2019]\n",
        "for rect, label in zip(rects, labels):\n",
        "    height = rect.get_height()\n",
        "    ax.text(rect.get_x() + rect.get_width() / 2, height, label,\n",
        "            ha='center', va='bottom',fontsize=18)\n",
        "plt.xlabel('Team names', fontsize=28)\n",
        "plt.ylabel('Runs', fontsize=28)"
      ],
      "execution_count": null,
      "outputs": [
        {
          "output_type": "execute_result",
          "data": {
            "text/plain": [
              "Text(0, 0.5, 'Runs')"
            ]
          },
          "metadata": {
            "tags": []
          },
          "execution_count": 49
        },
        {
          "output_type": "display_data",
          "data": {
            "image/png": "[encoded data removed]",
            "text/plain": [
              "<Figure size 1296x432 with 1 Axes>"
            ]
          },
          "metadata": {
            "tags": [],
            "needs_background": "light"
          }
        }
      ]
    },
    {
      "cell_type": "markdown",
      "metadata": {
        "id": "k1UeQy-dET8s"
      },
      "source": [
        "          * Maximum total team runs is in the year 2013 and scored by Mumbai Indians.\n",
        "          * Minimum in the year 2009  by Decan Chargers."
      ]
    },
    {
      "cell_type": "markdown",
      "metadata": {
        "id": "lT850Mz-SaQv"
      },
      "source": [
        "#**4. Is scoring over the years is easy?**"
      ]
    },
    {
      "cell_type": "code",
      "metadata": {
        "colab": {
          "base_uri": "https://localhost:8080/",
          "height": 452
        },
        "id": "TIl5hpr9Xsp8",
        "outputId": "54a2e103-b049-4598-dae6-86509128843b"
      },
      "source": [
        "#arranging....\n",
        "season_runs=merge_df.groupby('Season')['batsman_runs'].sum()\n",
        "\n",
        "max_season_runs=pd.DataFrame(season_runs)\n",
        "max_season_runs"
      ],
      "execution_count": null,
      "outputs": [
        {
          "output_type": "execute_result",
          "data": {
            "text/html": [
              "<div>\n",
              "<style scoped>\n",
              "    .dataframe tbody tr th:only-of-type {\n",
              "        vertical-align: middle;\n",
              "    }\n",
              "\n",
              "    .dataframe tbody tr th {\n",
              "        vertical-align: top;\n",
              "    }\n",
              "\n",
              "    .dataframe thead th {\n",
              "        text-align: right;\n",
              "    }\n",
              "</style>\n",
              "<table border=\"1\" class=\"dataframe\">\n",
              "  <thead>\n",
              "    <tr style=\"text-align: right;\">\n",
              "      <th></th>\n",
              "      <th>batsman_runs</th>\n",
              "    </tr>\n",
              "    <tr>\n",
              "      <th>Season</th>\n",
              "      <th></th>\n",
              "    </tr>\n",
              "  </thead>\n",
              "  <tbody>\n",
              "    <tr>\n",
              "      <th>IPL-2008</th>\n",
              "      <td>16809</td>\n",
              "    </tr>\n",
              "    <tr>\n",
              "      <th>IPL-2009</th>\n",
              "      <td>15376</td>\n",
              "    </tr>\n",
              "    <tr>\n",
              "      <th>IPL-2010</th>\n",
              "      <td>17754</td>\n",
              "    </tr>\n",
              "    <tr>\n",
              "      <th>IPL-2011</th>\n",
              "      <td>19928</td>\n",
              "    </tr>\n",
              "    <tr>\n",
              "      <th>IPL-2012</th>\n",
              "      <td>21322</td>\n",
              "    </tr>\n",
              "    <tr>\n",
              "      <th>IPL-2013</th>\n",
              "      <td>21487</td>\n",
              "    </tr>\n",
              "    <tr>\n",
              "      <th>IPL-2014</th>\n",
              "      <td>17943</td>\n",
              "    </tr>\n",
              "    <tr>\n",
              "      <th>IPL-2015</th>\n",
              "      <td>17427</td>\n",
              "    </tr>\n",
              "    <tr>\n",
              "      <th>IPL-2016</th>\n",
              "      <td>17963</td>\n",
              "    </tr>\n",
              "    <tr>\n",
              "      <th>IPL-2017</th>\n",
              "      <td>17920</td>\n",
              "    </tr>\n",
              "    <tr>\n",
              "      <th>IPL-2018</th>\n",
              "      <td>19906</td>\n",
              "    </tr>\n",
              "    <tr>\n",
              "      <th>IPL-2019</th>\n",
              "      <td>19451</td>\n",
              "    </tr>\n",
              "  </tbody>\n",
              "</table>\n",
              "</div>"
            ],
            "text/plain": [
              "          batsman_runs\n",
              "Season                \n",
              "IPL-2008         16809\n",
              "IPL-2009         15376\n",
              "IPL-2010         17754\n",
              "IPL-2011         19928\n",
              "IPL-2012         21322\n",
              "IPL-2013         21487\n",
              "IPL-2014         17943\n",
              "IPL-2015         17427\n",
              "IPL-2016         17963\n",
              "IPL-2017         17920\n",
              "IPL-2018         19906\n",
              "IPL-2019         19451"
            ]
          },
          "metadata": {
            "tags": []
          },
          "execution_count": 51
        }
      ]
    },
    {
      "cell_type": "markdown",
      "metadata": {
        "id": "AQK-FZtYFQc3"
      },
      "source": [
        "           * Grouping according to the season and summing the batsmen runs."
      ]
    },
    {
      "cell_type": "code",
      "metadata": {
        "colab": {
          "base_uri": "https://localhost:8080/",
          "height": 297
        },
        "id": "t8ZbNEhSX2ts",
        "outputId": "33b14030-3d6c-4de7-d3e4-a3a8b7426272"
      },
      "source": [
        "#summary\n",
        "max_season_runs.describe()"
      ],
      "execution_count": null,
      "outputs": [
        {
          "output_type": "execute_result",
          "data": {
            "text/html": [
              "<div>\n",
              "<style scoped>\n",
              "    .dataframe tbody tr th:only-of-type {\n",
              "        vertical-align: middle;\n",
              "    }\n",
              "\n",
              "    .dataframe tbody tr th {\n",
              "        vertical-align: top;\n",
              "    }\n",
              "\n",
              "    .dataframe thead th {\n",
              "        text-align: right;\n",
              "    }\n",
              "</style>\n",
              "<table border=\"1\" class=\"dataframe\">\n",
              "  <thead>\n",
              "    <tr style=\"text-align: right;\">\n",
              "      <th></th>\n",
              "      <th>batsman_runs</th>\n",
              "    </tr>\n",
              "  </thead>\n",
              "  <tbody>\n",
              "    <tr>\n",
              "      <th>count</th>\n",
              "      <td>12.000000</td>\n",
              "    </tr>\n",
              "    <tr>\n",
              "      <th>mean</th>\n",
              "      <td>18607.166667</td>\n",
              "    </tr>\n",
              "    <tr>\n",
              "      <th>std</th>\n",
              "      <td>1832.290610</td>\n",
              "    </tr>\n",
              "    <tr>\n",
              "      <th>min</th>\n",
              "      <td>15376.000000</td>\n",
              "    </tr>\n",
              "    <tr>\n",
              "      <th>25%</th>\n",
              "      <td>17672.250000</td>\n",
              "    </tr>\n",
              "    <tr>\n",
              "      <th>50%</th>\n",
              "      <td>17953.000000</td>\n",
              "    </tr>\n",
              "    <tr>\n",
              "      <th>75%</th>\n",
              "      <td>19911.500000</td>\n",
              "    </tr>\n",
              "    <tr>\n",
              "      <th>max</th>\n",
              "      <td>21487.000000</td>\n",
              "    </tr>\n",
              "  </tbody>\n",
              "</table>\n",
              "</div>"
            ],
            "text/plain": [
              "       batsman_runs\n",
              "count     12.000000\n",
              "mean   18607.166667\n",
              "std     1832.290610\n",
              "min    15376.000000\n",
              "25%    17672.250000\n",
              "50%    17953.000000\n",
              "75%    19911.500000\n",
              "max    21487.000000"
            ]
          },
          "metadata": {
            "tags": []
          },
          "execution_count": 52
        }
      ]
    },
    {
      "cell_type": "markdown",
      "metadata": {
        "id": "EBZOVGyVFm7a"
      },
      "source": [
        "              * Determined mean, minimum , maximum values of the dataframe"
      ]
    },
    {
      "cell_type": "code",
      "metadata": {
        "colab": {
          "base_uri": "https://localhost:8080/",
          "height": 452
        },
        "id": "BU07OgxvYH6P",
        "outputId": "05af053e-0db3-40d4-dc22-2a2670328937"
      },
      "source": [
        "#renaming column name\n",
        "max_season_runs.rename(columns={'batsman_runs':'Total_runs'})"
      ],
      "execution_count": null,
      "outputs": [
        {
          "output_type": "execute_result",
          "data": {
            "text/html": [
              "<div>\n",
              "<style scoped>\n",
              "    .dataframe tbody tr th:only-of-type {\n",
              "        vertical-align: middle;\n",
              "    }\n",
              "\n",
              "    .dataframe tbody tr th {\n",
              "        vertical-align: top;\n",
              "    }\n",
              "\n",
              "    .dataframe thead th {\n",
              "        text-align: right;\n",
              "    }\n",
              "</style>\n",
              "<table border=\"1\" class=\"dataframe\">\n",
              "  <thead>\n",
              "    <tr style=\"text-align: right;\">\n",
              "      <th></th>\n",
              "      <th>Total_runs</th>\n",
              "    </tr>\n",
              "    <tr>\n",
              "      <th>Season</th>\n",
              "      <th></th>\n",
              "    </tr>\n",
              "  </thead>\n",
              "  <tbody>\n",
              "    <tr>\n",
              "      <th>IPL-2008</th>\n",
              "      <td>16809</td>\n",
              "    </tr>\n",
              "    <tr>\n",
              "      <th>IPL-2009</th>\n",
              "      <td>15376</td>\n",
              "    </tr>\n",
              "    <tr>\n",
              "      <th>IPL-2010</th>\n",
              "      <td>17754</td>\n",
              "    </tr>\n",
              "    <tr>\n",
              "      <th>IPL-2011</th>\n",
              "      <td>19928</td>\n",
              "    </tr>\n",
              "    <tr>\n",
              "      <th>IPL-2012</th>\n",
              "      <td>21322</td>\n",
              "    </tr>\n",
              "    <tr>\n",
              "      <th>IPL-2013</th>\n",
              "      <td>21487</td>\n",
              "    </tr>\n",
              "    <tr>\n",
              "      <th>IPL-2014</th>\n",
              "      <td>17943</td>\n",
              "    </tr>\n",
              "    <tr>\n",
              "      <th>IPL-2015</th>\n",
              "      <td>17427</td>\n",
              "    </tr>\n",
              "    <tr>\n",
              "      <th>IPL-2016</th>\n",
              "      <td>17963</td>\n",
              "    </tr>\n",
              "    <tr>\n",
              "      <th>IPL-2017</th>\n",
              "      <td>17920</td>\n",
              "    </tr>\n",
              "    <tr>\n",
              "      <th>IPL-2018</th>\n",
              "      <td>19906</td>\n",
              "    </tr>\n",
              "    <tr>\n",
              "      <th>IPL-2019</th>\n",
              "      <td>19451</td>\n",
              "    </tr>\n",
              "  </tbody>\n",
              "</table>\n",
              "</div>"
            ],
            "text/plain": [
              "          Total_runs\n",
              "Season              \n",
              "IPL-2008       16809\n",
              "IPL-2009       15376\n",
              "IPL-2010       17754\n",
              "IPL-2011       19928\n",
              "IPL-2012       21322\n",
              "IPL-2013       21487\n",
              "IPL-2014       17943\n",
              "IPL-2015       17427\n",
              "IPL-2016       17963\n",
              "IPL-2017       17920\n",
              "IPL-2018       19906\n",
              "IPL-2019       19451"
            ]
          },
          "metadata": {
            "tags": []
          },
          "execution_count": 53
        }
      ]
    },
    {
      "cell_type": "code",
      "metadata": {
        "colab": {
          "base_uri": "https://localhost:8080/",
          "height": 364
        },
        "id": "2uPWlvo6YMMY",
        "outputId": "fccfaddb-3f61-473f-f6a3-0f66c44a8bd5"
      },
      "source": [
        "#visualizing\n",
        "max_season_runs.plot(color='green', marker='s', linestyle='dashed',figsize =(10,5),linewidth=2,markersize=8,fontsize=15) \n",
        "plt.title(\"Season score over the years\",size=25)\n",
        "plt.ylabel('Runs',fontsize=20)\n",
        "plt.rcParams['figure.figsize'] = (50, 10) "
      ],
      "execution_count": null,
      "outputs": [
        {
          "output_type": "display_data",
          "data": {
            "image/png": "[encoded data removed]",
            "text/plain": [
              "<Figure size 720x360 with 1 Axes>"
            ]
          },
          "metadata": {
            "tags": [],
            "needs_background": "light"
          }
        }
      ]
    },
    {
      "cell_type": "markdown",
      "metadata": {
        "id": "r8g3rIkAGKFW"
      },
      "source": [
        "               * There is maximum runs scored in the year 2012,2013 reason for this is because number \n",
        "                  of matches played in these seasons are more compared to other seasons."
      ]
    },
    {
      "cell_type": "markdown",
      "metadata": {
        "id": "8ON21pUZbSWA"
      },
      "source": [
        "#**5.BEST BOWLERS in terms of number of wickets.**\n"
      ]
    },
    {
      "cell_type": "code",
      "metadata": {
        "colab": {
          "base_uri": "https://localhost:8080/",
          "height": 359
        },
        "id": "b6_xv2ejbD6E",
        "outputId": "37939f8f-478c-4d21-b72a-79abc962f4f6"
      },
      "source": [
        "# Cleaning The data\n",
        "elements=[\"bowler\",\"dismissal_kind\"]\n",
        "keep_el=delivery_df[elements].copy()\n",
        "wicket_by_bowler=keep_el[keep_el[\"dismissal_kind\"]!=\"run out\"]\n",
        "wicket_by_bowlers=wicket_by_bowler.dropna()\n",
        "wicket_by_bowlers.shape\n",
        "# fetching the best bowler\n",
        "Top_wicket_Takers=wicket_by_bowlers.groupby(\"bowler\")[\"dismissal_kind\"].count().reset_index(name=\"Wickets\")\n",
        "Top_wicket_Takers.sort_values(\"Wickets\",ascending=False,inplace=True)\n",
        "Top_wicket_Takers.head(10)"
      ],
      "execution_count": null,
      "outputs": [
        {
          "output_type": "execute_result",
          "data": {
            "text/html": [
              "<div>\n",
              "<style scoped>\n",
              "    .dataframe tbody tr th:only-of-type {\n",
              "        vertical-align: middle;\n",
              "    }\n",
              "\n",
              "    .dataframe tbody tr th {\n",
              "        vertical-align: top;\n",
              "    }\n",
              "\n",
              "    .dataframe thead th {\n",
              "        text-align: right;\n",
              "    }\n",
              "</style>\n",
              "<table border=\"1\" class=\"dataframe\">\n",
              "  <thead>\n",
              "    <tr style=\"text-align: right;\">\n",
              "      <th></th>\n",
              "      <th>bowler</th>\n",
              "      <th>Wickets</th>\n",
              "    </tr>\n",
              "  </thead>\n",
              "  <tbody>\n",
              "    <tr>\n",
              "      <th>290</th>\n",
              "      <td>SL Malinga</td>\n",
              "      <td>170</td>\n",
              "    </tr>\n",
              "    <tr>\n",
              "      <th>6</th>\n",
              "      <td>A Mishra</td>\n",
              "      <td>156</td>\n",
              "    </tr>\n",
              "    <tr>\n",
              "      <th>110</th>\n",
              "      <td>Harbhajan Singh</td>\n",
              "      <td>150</td>\n",
              "    </tr>\n",
              "    <tr>\n",
              "      <th>227</th>\n",
              "      <td>PP Chawla</td>\n",
              "      <td>149</td>\n",
              "    </tr>\n",
              "    <tr>\n",
              "      <th>82</th>\n",
              "      <td>DJ Bravo</td>\n",
              "      <td>147</td>\n",
              "    </tr>\n",
              "    <tr>\n",
              "      <th>46</th>\n",
              "      <td>B Kumar</td>\n",
              "      <td>133</td>\n",
              "    </tr>\n",
              "    <tr>\n",
              "      <th>232</th>\n",
              "      <td>R Ashwin</td>\n",
              "      <td>125</td>\n",
              "    </tr>\n",
              "    <tr>\n",
              "      <th>296</th>\n",
              "      <td>SP Narine</td>\n",
              "      <td>122</td>\n",
              "    </tr>\n",
              "    <tr>\n",
              "      <th>326</th>\n",
              "      <td>UT Yadav</td>\n",
              "      <td>119</td>\n",
              "    </tr>\n",
              "    <tr>\n",
              "      <th>244</th>\n",
              "      <td>RA Jadeja</td>\n",
              "      <td>108</td>\n",
              "    </tr>\n",
              "  </tbody>\n",
              "</table>\n",
              "</div>"
            ],
            "text/plain": [
              "              bowler  Wickets\n",
              "290       SL Malinga      170\n",
              "6           A Mishra      156\n",
              "110  Harbhajan Singh      150\n",
              "227        PP Chawla      149\n",
              "82          DJ Bravo      147\n",
              "46           B Kumar      133\n",
              "232         R Ashwin      125\n",
              "296        SP Narine      122\n",
              "326         UT Yadav      119\n",
              "244        RA Jadeja      108"
            ]
          },
          "metadata": {
            "tags": []
          },
          "execution_count": 55
        }
      ]
    },
    {
      "cell_type": "markdown",
      "metadata": {
        "id": "-pCUpZp_HNwr"
      },
      "source": [
        "              * Created the top 10 list of best bowlers according to the number of wickets."
      ]
    },
    {
      "cell_type": "code",
      "metadata": {
        "colab": {
          "base_uri": "https://localhost:8080/",
          "height": 463
        },
        "id": "XYVYx4wgbsnj",
        "outputId": "fa5e21b8-a3a6-4390-9b3a-a996bff9fa99"
      },
      "source": [
        "x=Top_wicket_Takers[\"bowler\"].head(10)\n",
        "y=Top_wicket_Takers[\"Wickets\"].head(10)\n",
        "#Plotting The Graph\n",
        "#plt.barh(x,y,color=\"green\")\n",
        "fig, ax = plt.subplots(figsize=(15, 6))\n",
        "#ax.set_title('Best Bowler of IPL');\n",
        "#ax.set_xlabel( \"best Bowlers\" , size = 12 )\n",
        "  \n",
        "sns.barplot(x,y,ax=ax,palette=\"inferno\").set_title(\"Top 10 Bowlers of IPL\",fontdict = { 'fontsize': 20})\n",
        "\n",
        "sns.set_style('darkgrid')"
      ],
      "execution_count": null,
      "outputs": [
        {
          "output_type": "stream",
          "text": [
            "/usr/local/lib/python3.7/dist-packages/seaborn/_decorators.py:43: FutureWarning: Pass the following variables as keyword args: x, y. From version 0.12, the only valid positional argument will be `data`, and passing other arguments without an explicit keyword will result in an error or misinterpretation.\n",
            "  FutureWarning\n"
          ],
          "name": "stderr"
        },
        {
          "output_type": "display_data",
          "data": {
            "image/png": "[encoded data removed]",
            "text/plain": [
              "<Figure size 1080x432 with 1 Axes>"
            ]
          },
          "metadata": {
            "tags": [],
            "needs_background": "light"
          }
        }
      ]
    },
    {
      "cell_type": "markdown",
      "metadata": {
        "id": "yqARqWcKHhb9"
      },
      "source": [
        "             * Lasith malinga has taken maximum number of wickets in overall ipl."
      ]
    },
    {
      "cell_type": "markdown",
      "metadata": {
        "id": "AjYXHgXfID4v"
      },
      "source": [
        "#**6.BEST BOWLING team in terms of economy.**"
      ]
    },
    {
      "cell_type": "code",
      "metadata": {
        "colab": {
          "base_uri": "https://localhost:8080/"
        },
        "id": "5vZTwQXLgFIj",
        "outputId": "4c16cfb8-40a8-4414-de1c-359e6e2a469d"
      },
      "source": [
        "#uniques....\n",
        "team_names=sorted(teams_df['team1'].unique())\n",
        "team_names"
      ],
      "execution_count": null,
      "outputs": [
        {
          "output_type": "execute_result",
          "data": {
            "text/plain": [
              "['Chennai Super Kings',\n",
              " 'Deccan Chargers',\n",
              " 'Delhi Capitals',\n",
              " 'Delhi Daredevils',\n",
              " 'Gujarat Lions',\n",
              " 'Kings XI Punjab',\n",
              " 'Kochi Tuskers Kerala',\n",
              " 'Kolkata Knight Riders',\n",
              " 'Mumbai Indians',\n",
              " 'Pune Warriors',\n",
              " 'Rajasthan Royals',\n",
              " 'Rising Pune Supergiant',\n",
              " 'Rising Pune Supergiants',\n",
              " 'Royal Challengers Bangalore',\n",
              " 'Sunrisers Hyderabad']"
            ]
          },
          "metadata": {
            "tags": []
          },
          "execution_count": 57
        }
      ]
    },
    {
      "cell_type": "markdown",
      "metadata": {
        "id": "_zzOogt9H74J"
      },
      "source": [
        "            * Storing the participated teams  in the IPL."
      ]
    },
    {
      "cell_type": "code",
      "metadata": {
        "colab": {
          "base_uri": "https://localhost:8080/"
        },
        "id": "6XFBLfM3hmPI",
        "outputId": "38ff9c6e-4242-4558-f5d6-5dfdde3c571a"
      },
      "source": [
        "#getting the economy of the each team\n",
        "total_runs=[]\n",
        "total_overs=[]\n",
        "economy=[]\n",
        "for i in team_names:\n",
        "  record=delivery_df[delivery_df[\"bowling_team\"]==i]\n",
        "  x=record['total_runs'].sum()\n",
        "  y=math.ceil(sum([1 for i in record['ball']])/6)\n",
        "  economy.append(x/y)\n",
        "\n",
        "economy"
      ],
      "execution_count": null,
      "outputs": [
        {
          "output_type": "execute_result",
          "data": {
            "text/plain": [
              "[7.728220858895705,\n",
              " 7.709356337093563,\n",
              " 8.152439024390244,\n",
              " 7.949695610381288,\n",
              " 8.612521150592217,\n",
              " 8.177251732101617,\n",
              " 7.382899628252788,\n",
              " 7.843839541547278,\n",
              " 7.700772715161205,\n",
              " 7.535164835164835,\n",
              " 7.820849154297549,\n",
              " 7.565217391304348,\n",
              " 7.825925925925926,\n",
              " 8.070338983050847,\n",
              " 7.832394366197183]"
            ]
          },
          "metadata": {
            "tags": []
          },
          "execution_count": 58
        }
      ]
    },
    {
      "cell_type": "markdown",
      "metadata": {
        "id": "eYj0Z2UOIzPs"
      },
      "source": [
        "         * Extracted the economy of the teams using the runs given by the team and overs bowled by the team."
      ]
    },
    {
      "cell_type": "code",
      "metadata": {
        "id": "M5Ovb6CUp5iv"
      },
      "source": [
        "#rounding up....\n",
        "Economy_of_each_team=[round(x,2) for x in economy]"
      ],
      "execution_count": null,
      "outputs": []
    },
    {
      "cell_type": "code",
      "metadata": {
        "id": "9GvIWJm1rOuE"
      },
      "source": [
        "#removing duplicates\n",
        "all_teams=set(delivery_df[\"bowling_team\"])"
      ],
      "execution_count": null,
      "outputs": []
    },
    {
      "cell_type": "code",
      "metadata": {
        "id": "qw4ZeilCrTW8"
      },
      "source": [
        "#storing in variables\n",
        "a=all_teams\n",
        "b=Economy_of_each_team\n",
        "c=all_teams.copy()\n"
      ],
      "execution_count": null,
      "outputs": []
    },
    {
      "cell_type": "code",
      "metadata": {
        "colab": {
          "base_uri": "https://localhost:8080/",
          "height": 514
        },
        "id": "i73K8HFRrXOd",
        "outputId": "d45fa0d9-e103-4137-af34-414a185d5871"
      },
      "source": [
        "#zipping up variables\n",
        "lets_try=pd.DataFrame(zip(a,b,c))\n",
        "lets_try.columns=[\"team_name\",\"economy\",\"teamsss\"]\n",
        "lets_try"
      ],
      "execution_count": null,
      "outputs": [
        {
          "output_type": "execute_result",
          "data": {
            "text/html": [
              "<div>\n",
              "<style scoped>\n",
              "    .dataframe tbody tr th:only-of-type {\n",
              "        vertical-align: middle;\n",
              "    }\n",
              "\n",
              "    .dataframe tbody tr th {\n",
              "        vertical-align: top;\n",
              "    }\n",
              "\n",
              "    .dataframe thead th {\n",
              "        text-align: right;\n",
              "    }\n",
              "</style>\n",
              "<table border=\"1\" class=\"dataframe\">\n",
              "  <thead>\n",
              "    <tr style=\"text-align: right;\">\n",
              "      <th></th>\n",
              "      <th>team_name</th>\n",
              "      <th>economy</th>\n",
              "      <th>teamsss</th>\n",
              "    </tr>\n",
              "  </thead>\n",
              "  <tbody>\n",
              "    <tr>\n",
              "      <th>0</th>\n",
              "      <td>Kolkata Knight Riders</td>\n",
              "      <td>7.73</td>\n",
              "      <td>Kolkata Knight Riders</td>\n",
              "    </tr>\n",
              "    <tr>\n",
              "      <th>1</th>\n",
              "      <td>Kings XI Punjab</td>\n",
              "      <td>7.71</td>\n",
              "      <td>Kings XI Punjab</td>\n",
              "    </tr>\n",
              "    <tr>\n",
              "      <th>2</th>\n",
              "      <td>Rajasthan Royals</td>\n",
              "      <td>8.15</td>\n",
              "      <td>Rajasthan Royals</td>\n",
              "    </tr>\n",
              "    <tr>\n",
              "      <th>3</th>\n",
              "      <td>Pune Warriors</td>\n",
              "      <td>7.95</td>\n",
              "      <td>Pune Warriors</td>\n",
              "    </tr>\n",
              "    <tr>\n",
              "      <th>4</th>\n",
              "      <td>Delhi Capitals</td>\n",
              "      <td>8.61</td>\n",
              "      <td>Delhi Capitals</td>\n",
              "    </tr>\n",
              "    <tr>\n",
              "      <th>5</th>\n",
              "      <td>Sunrisers Hyderabad</td>\n",
              "      <td>8.18</td>\n",
              "      <td>Sunrisers Hyderabad</td>\n",
              "    </tr>\n",
              "    <tr>\n",
              "      <th>6</th>\n",
              "      <td>Gujarat Lions</td>\n",
              "      <td>7.38</td>\n",
              "      <td>Gujarat Lions</td>\n",
              "    </tr>\n",
              "    <tr>\n",
              "      <th>7</th>\n",
              "      <td>Royal Challengers Bangalore</td>\n",
              "      <td>7.84</td>\n",
              "      <td>Royal Challengers Bangalore</td>\n",
              "    </tr>\n",
              "    <tr>\n",
              "      <th>8</th>\n",
              "      <td>Deccan Chargers</td>\n",
              "      <td>7.70</td>\n",
              "      <td>Deccan Chargers</td>\n",
              "    </tr>\n",
              "    <tr>\n",
              "      <th>9</th>\n",
              "      <td>Delhi Daredevils</td>\n",
              "      <td>7.54</td>\n",
              "      <td>Delhi Daredevils</td>\n",
              "    </tr>\n",
              "    <tr>\n",
              "      <th>10</th>\n",
              "      <td>Kochi Tuskers Kerala</td>\n",
              "      <td>7.82</td>\n",
              "      <td>Kochi Tuskers Kerala</td>\n",
              "    </tr>\n",
              "    <tr>\n",
              "      <th>11</th>\n",
              "      <td>Rising Pune Supergiants</td>\n",
              "      <td>7.57</td>\n",
              "      <td>Rising Pune Supergiants</td>\n",
              "    </tr>\n",
              "    <tr>\n",
              "      <th>12</th>\n",
              "      <td>Chennai Super Kings</td>\n",
              "      <td>7.83</td>\n",
              "      <td>Chennai Super Kings</td>\n",
              "    </tr>\n",
              "    <tr>\n",
              "      <th>13</th>\n",
              "      <td>Mumbai Indians</td>\n",
              "      <td>8.07</td>\n",
              "      <td>Mumbai Indians</td>\n",
              "    </tr>\n",
              "    <tr>\n",
              "      <th>14</th>\n",
              "      <td>Rising Pune Supergiant</td>\n",
              "      <td>7.83</td>\n",
              "      <td>Rising Pune Supergiant</td>\n",
              "    </tr>\n",
              "  </tbody>\n",
              "</table>\n",
              "</div>"
            ],
            "text/plain": [
              "                      team_name  economy                      teamsss\n",
              "0         Kolkata Knight Riders     7.73        Kolkata Knight Riders\n",
              "1               Kings XI Punjab     7.71              Kings XI Punjab\n",
              "2              Rajasthan Royals     8.15             Rajasthan Royals\n",
              "3                 Pune Warriors     7.95                Pune Warriors\n",
              "4                Delhi Capitals     8.61               Delhi Capitals\n",
              "5           Sunrisers Hyderabad     8.18          Sunrisers Hyderabad\n",
              "6                 Gujarat Lions     7.38                Gujarat Lions\n",
              "7   Royal Challengers Bangalore     7.84  Royal Challengers Bangalore\n",
              "8               Deccan Chargers     7.70              Deccan Chargers\n",
              "9              Delhi Daredevils     7.54             Delhi Daredevils\n",
              "10         Kochi Tuskers Kerala     7.82         Kochi Tuskers Kerala\n",
              "11      Rising Pune Supergiants     7.57      Rising Pune Supergiants\n",
              "12          Chennai Super Kings     7.83          Chennai Super Kings\n",
              "13               Mumbai Indians     8.07               Mumbai Indians\n",
              "14       Rising Pune Supergiant     7.83       Rising Pune Supergiant"
            ]
          },
          "metadata": {
            "tags": []
          },
          "execution_count": 62
        }
      ]
    },
    {
      "cell_type": "code",
      "metadata": {
        "colab": {
          "base_uri": "https://localhost:8080/",
          "height": 297
        },
        "id": "rdAnnKUDrhPu",
        "outputId": "7c9a2009-69d2-403b-dd93-eaae9685126f"
      },
      "source": [
        "#summary\n",
        "lets_try.describe()"
      ],
      "execution_count": null,
      "outputs": [
        {
          "output_type": "execute_result",
          "data": {
            "text/html": [
              "<div>\n",
              "<style scoped>\n",
              "    .dataframe tbody tr th:only-of-type {\n",
              "        vertical-align: middle;\n",
              "    }\n",
              "\n",
              "    .dataframe tbody tr th {\n",
              "        vertical-align: top;\n",
              "    }\n",
              "\n",
              "    .dataframe thead th {\n",
              "        text-align: right;\n",
              "    }\n",
              "</style>\n",
              "<table border=\"1\" class=\"dataframe\">\n",
              "  <thead>\n",
              "    <tr style=\"text-align: right;\">\n",
              "      <th></th>\n",
              "      <th>economy</th>\n",
              "    </tr>\n",
              "  </thead>\n",
              "  <tbody>\n",
              "    <tr>\n",
              "      <th>count</th>\n",
              "      <td>15.000000</td>\n",
              "    </tr>\n",
              "    <tr>\n",
              "      <th>mean</th>\n",
              "      <td>7.860667</td>\n",
              "    </tr>\n",
              "    <tr>\n",
              "      <th>std</th>\n",
              "      <td>0.303185</td>\n",
              "    </tr>\n",
              "    <tr>\n",
              "      <th>min</th>\n",
              "      <td>7.380000</td>\n",
              "    </tr>\n",
              "    <tr>\n",
              "      <th>25%</th>\n",
              "      <td>7.705000</td>\n",
              "    </tr>\n",
              "    <tr>\n",
              "      <th>50%</th>\n",
              "      <td>7.830000</td>\n",
              "    </tr>\n",
              "    <tr>\n",
              "      <th>75%</th>\n",
              "      <td>8.010000</td>\n",
              "    </tr>\n",
              "    <tr>\n",
              "      <th>max</th>\n",
              "      <td>8.610000</td>\n",
              "    </tr>\n",
              "  </tbody>\n",
              "</table>\n",
              "</div>"
            ],
            "text/plain": [
              "         economy\n",
              "count  15.000000\n",
              "mean    7.860667\n",
              "std     0.303185\n",
              "min     7.380000\n",
              "25%     7.705000\n",
              "50%     7.830000\n",
              "75%     8.010000\n",
              "max     8.610000"
            ]
          },
          "metadata": {
            "tags": []
          },
          "execution_count": 63
        }
      ]
    },
    {
      "cell_type": "code",
      "metadata": {
        "colab": {
          "base_uri": "https://localhost:8080/",
          "height": 429
        },
        "id": "tQYjKwVLrhsd",
        "outputId": "7333b59e-20aa-4d8d-fb9c-50f83eef6dc6"
      },
      "source": [
        "#graph...\n",
        "fig, bx = plt.subplots(figsize=(25, 5))\n",
        "bx.set_xlabel(\"Teams\",size = 15 )\n",
        "bx.set_ylabel( \"Economy Rate\",size = 15 )\n",
        "sns.lineplot(x=\"team_name\",y=\"economy\",data=lets_try,ax=bx,markers=True,palette=\"tab10\")\n",
        "plt.xticks(rotation=40)\n",
        "\n",
        "  \n",
        "plt.show()"
      ],
      "execution_count": null,
      "outputs": [
        {
          "output_type": "display_data",
          "data": {
            "image/png": "[encoded data removed]",
            "text/plain": [
              "<Figure size 1800x360 with 1 Axes>"
            ]
          },
          "metadata": {
            "tags": []
          }
        }
      ]
    },
    {
      "cell_type": "markdown",
      "metadata": {
        "id": "P_C9DIvJKY8e"
      },
      "source": [
        "               * Bowling Economy of the teams"
      ]
    },
    {
      "cell_type": "markdown",
      "metadata": {
        "id": "K2DTcFObv759"
      },
      "source": [
        "#**7.After winning toss batting or fielding is favour for winning match**\n"
      ]
    },
    {
      "cell_type": "code",
      "metadata": {
        "colab": {
          "base_uri": "https://localhost:8080/",
          "height": 204
        },
        "id": "ZOdnuC5Ecus5",
        "outputId": "0fc10618-564d-42c0-fb88-1a60ae43955d"
      },
      "source": [
        "#creating the new dataframe from  matches dataset.\n",
        "toss = df[['team1','team2','toss_winner','toss_decision','winner']]  \n",
        "toss"
      ],
      "execution_count": null,
      "outputs": [
        {
          "output_type": "execute_result",
          "data": {
            "text/html": [
              "<div>\n",
              "<style scoped>\n",
              "    .dataframe tbody tr th:only-of-type {\n",
              "        vertical-align: middle;\n",
              "    }\n",
              "\n",
              "    .dataframe tbody tr th {\n",
              "        vertical-align: top;\n",
              "    }\n",
              "\n",
              "    .dataframe thead th {\n",
              "        text-align: right;\n",
              "    }\n",
              "</style>\n",
              "<table border=\"1\" class=\"dataframe\">\n",
              "  <thead>\n",
              "    <tr style=\"text-align: right;\">\n",
              "      <th></th>\n",
              "      <th>team1</th>\n",
              "      <th>team2</th>\n",
              "      <th>toss_winner</th>\n",
              "      <th>toss_decision</th>\n",
              "      <th>winner</th>\n",
              "    </tr>\n",
              "  </thead>\n",
              "  <tbody>\n",
              "    <tr>\n",
              "      <th>0</th>\n",
              "      <td>Sunrisers Hyderabad</td>\n",
              "      <td>Royal Challengers Bangalore</td>\n",
              "      <td>Royal Challengers Bangalore</td>\n",
              "      <td>field</td>\n",
              "      <td>Sunrisers Hyderabad</td>\n",
              "    </tr>\n",
              "    <tr>\n",
              "      <th>1</th>\n",
              "      <td>Mumbai Indians</td>\n",
              "      <td>Rising Pune Supergiant</td>\n",
              "      <td>Rising Pune Supergiant</td>\n",
              "      <td>field</td>\n",
              "      <td>Rising Pune Supergiant</td>\n",
              "    </tr>\n",
              "    <tr>\n",
              "      <th>2</th>\n",
              "      <td>Gujarat Lions</td>\n",
              "      <td>Kolkata Knight Riders</td>\n",
              "      <td>Kolkata Knight Riders</td>\n",
              "      <td>field</td>\n",
              "      <td>Kolkata Knight Riders</td>\n",
              "    </tr>\n",
              "    <tr>\n",
              "      <th>3</th>\n",
              "      <td>Rising Pune Supergiant</td>\n",
              "      <td>Kings XI Punjab</td>\n",
              "      <td>Kings XI Punjab</td>\n",
              "      <td>field</td>\n",
              "      <td>Kings XI Punjab</td>\n",
              "    </tr>\n",
              "    <tr>\n",
              "      <th>4</th>\n",
              "      <td>Royal Challengers Bangalore</td>\n",
              "      <td>Delhi Daredevils</td>\n",
              "      <td>Royal Challengers Bangalore</td>\n",
              "      <td>bat</td>\n",
              "      <td>Royal Challengers Bangalore</td>\n",
              "    </tr>\n",
              "  </tbody>\n",
              "</table>\n",
              "</div>"
            ],
            "text/plain": [
              "                         team1  ...                       winner\n",
              "0          Sunrisers Hyderabad  ...          Sunrisers Hyderabad\n",
              "1               Mumbai Indians  ...       Rising Pune Supergiant\n",
              "2                Gujarat Lions  ...        Kolkata Knight Riders\n",
              "3       Rising Pune Supergiant  ...              Kings XI Punjab\n",
              "4  Royal Challengers Bangalore  ...  Royal Challengers Bangalore\n",
              "\n",
              "[5 rows x 5 columns]"
            ]
          },
          "metadata": {
            "tags": []
          },
          "execution_count": 65
        }
      ]
    },
    {
      "cell_type": "markdown",
      "metadata": {
        "id": "2bOw3WIvLNZ5"
      },
      "source": [
        "           * Creating dataframe by slicing the matches_df"
      ]
    },
    {
      "cell_type": "code",
      "metadata": {
        "colab": {
          "base_uri": "https://localhost:8080/"
        },
        "id": "5kHU6QPfv5-V",
        "outputId": "fd104753-ffd3-41b9-e92f-6ed05c8d56ac"
      },
      "source": [
        "toss.info()"
      ],
      "execution_count": null,
      "outputs": [
        {
          "output_type": "stream",
          "text": [
            "<class 'pandas.core.frame.DataFrame'>\n",
            "RangeIndex: 756 entries, 0 to 755\n",
            "Data columns (total 5 columns):\n",
            " #   Column         Non-Null Count  Dtype \n",
            "---  ------         --------------  ----- \n",
            " 0   team1          756 non-null    object\n",
            " 1   team2          756 non-null    object\n",
            " 2   toss_winner    756 non-null    object\n",
            " 3   toss_decision  756 non-null    object\n",
            " 4   winner         752 non-null    object\n",
            "dtypes: object(5)\n",
            "memory usage: 29.7+ KB\n"
          ],
          "name": "stdout"
        }
      ]
    },
    {
      "cell_type": "markdown",
      "metadata": {
        "id": "Ft9HQlY7LBg7"
      },
      "source": [
        "            # there are null values."
      ]
    },
    {
      "cell_type": "code",
      "metadata": {
        "colab": {
          "base_uri": "https://localhost:8080/"
        },
        "id": "fb8XTl5_wAhN",
        "outputId": "ba97b8ef-3172-4769-ac36-589d17e18ebc"
      },
      "source": [
        "#removing null values\n",
        "toss_new = toss.dropna()\n",
        "toss_new.info()"
      ],
      "execution_count": null,
      "outputs": [
        {
          "output_type": "stream",
          "text": [
            "<class 'pandas.core.frame.DataFrame'>\n",
            "Int64Index: 752 entries, 0 to 755\n",
            "Data columns (total 5 columns):\n",
            " #   Column         Non-Null Count  Dtype \n",
            "---  ------         --------------  ----- \n",
            " 0   team1          752 non-null    object\n",
            " 1   team2          752 non-null    object\n",
            " 2   toss_winner    752 non-null    object\n",
            " 3   toss_decision  752 non-null    object\n",
            " 4   winner         752 non-null    object\n",
            "dtypes: object(5)\n",
            "memory usage: 35.2+ KB\n"
          ],
          "name": "stdout"
        }
      ]
    },
    {
      "cell_type": "markdown",
      "metadata": {
        "id": "zSTCso1wLbZU"
      },
      "source": [
        "#case 1: winning toss and choose to bat."
      ]
    },
    {
      "cell_type": "code",
      "metadata": {
        "id": "l8NQx9zuwLjj"
      },
      "source": [
        "#Number of matches won toss and opted for bat\n",
        "toss_bat=toss_new[toss_new['toss_decision']=='bat']\n",
        "won_toss_bat = len(toss_bat)\n",
        "\n",
        "#logic for filtering the toss winner with winner of the match who choosed for bat\n",
        "winners_b=toss_bat[toss_bat['toss_winner']==toss_bat['winner']]\n",
        "won_toss_bat_win = len(winners_b)\n",
        "\n",
        "#winning the toss and lost match by batting\n",
        "won_toss_bat_lost = won_toss_bat - won_toss_bat_win\n",
        "\n",
        "# winning the match who won the toss and choosed to bat\n",
        "winning_bat_toss_percentage = 100*(won_toss_bat_win/won_toss_bat)\n",
        "\n",
        "# Lossing the match who won the toss and choosed to bat\n",
        "lossing_bat_toss_percentage = 100 - winning_bat_toss_percentage\n"
      ],
      "execution_count": null,
      "outputs": []
    },
    {
      "cell_type": "markdown",
      "metadata": {
        "id": "Prg1cfA0Llht"
      },
      "source": [
        "             * Caluclating winning and loosing percent of match after winning toss and choose to batting."
      ]
    },
    {
      "cell_type": "code",
      "metadata": {
        "colab": {
          "base_uri": "https://localhost:8080/",
          "height": 588
        },
        "id": "0mJ-AwN2xRlO",
        "outputId": "7f09f43a-cf8a-40dc-a4a8-4c27910b48a3"
      },
      "source": [
        "#visualizing in pie chart result...\n",
        "percentage_batting_string = ['winning_bat_toss_percentage','lossing_bat_toss_percentage']\n",
        "percentage_batting_value = [winning_bat_toss_percentage,lossing_bat_toss_percentage]\n",
        "percentage_batting_value_np= np.array(percentage_batting_value)\n",
        "\n",
        "mylabels = ['won_toss_bat_win','won_toss_bat_lost']\n",
        "\n",
        "\n",
        "myexplode = [0.2, 0]\n",
        "\n",
        "plt.pie(percentage_batting_value_np, labels = mylabels, explode = myexplode, shadow = True,autopct='%.2f', radius = 1.5)\n",
        "\n",
        "plt.show()"
      ],
      "execution_count": null,
      "outputs": [
        {
          "output_type": "display_data",
          "data": {
            "image/png": "[encoded data removed]",
            "text/plain": [
              "<Figure size 3600x720 with 1 Axes>"
            ]
          },
          "metadata": {
            "tags": []
          }
        }
      ]
    },
    {
      "cell_type": "markdown",
      "metadata": {
        "id": "P_CWal7lTQQz"
      },
      "source": [
        "                 * When team choose to bat after winning toss lost more number of matches i.e 54.11%."
      ]
    },
    {
      "cell_type": "markdown",
      "metadata": {
        "id": "p_U-NZH1MFZs"
      },
      "source": [
        "#case 2: winning toss and choose to field."
      ]
    },
    {
      "cell_type": "code",
      "metadata": {
        "id": "w8LugBKexu-M"
      },
      "source": [
        "#Number of matches won toss and opted for field\n",
        "toss_field=toss_new[toss_new['toss_decision']=='field']\n",
        "won_toss_field = len(toss_field)\n",
        "\n",
        "#logic for filtering the toss winner with winner of the match who choosed for field\n",
        "winners_f=toss_field[toss_field['toss_winner']==toss_field['winner']]\n",
        "won_toss_field_win = len(winners_f)\n",
        "\n",
        "#winning the toss and lost match by field\n",
        "won_toss_field_lost = won_toss_field - won_toss_field_win\n",
        "\n",
        "# winning the match who won the toss and choosed to field\n",
        "winning_field_toss_percentage = 100*(won_toss_field_win/won_toss_field)\n",
        "\n",
        "# Lossing the match who won the toss and choosed to field\n",
        "lossing_field_toss_percentage = 100 - winning_field_toss_percentage\n"
      ],
      "execution_count": null,
      "outputs": []
    },
    {
      "cell_type": "markdown",
      "metadata": {
        "id": "tE0kaDmAMgvY"
      },
      "source": [
        "            * Caluclating winning and loosing percent of match after winning toss and choose to fielding."
      ]
    },
    {
      "cell_type": "code",
      "metadata": {
        "colab": {
          "base_uri": "https://localhost:8080/",
          "height": 585
        },
        "id": "vo3aEDWIyX2a",
        "outputId": "5ec86989-3cdd-4df5-9fc6-da44f98d77cd"
      },
      "source": [
        "#Graphical output\n",
        "won_toss_fielding = ['won_toss_field_win', 'won_toss_field_lost']\n",
        "val=[won_toss_field_win,won_toss_field_lost]\n",
        "\n",
        "myexplode = [0.2, 0]\n",
        "\n",
        "plt.pie(val, labels = won_toss_fielding, explode = myexplode, shadow = True,autopct='%.2f')\n",
        "\n",
        "plt.show()"
      ],
      "execution_count": null,
      "outputs": [
        {
          "output_type": "display_data",
          "data": {
            "image/png": "[encoded data removed]",
            "text/plain": [
              "<Figure size 3600x720 with 1 Axes>"
            ]
          },
          "metadata": {
            "tags": []
          }
        }
      ]
    },
    {
      "cell_type": "markdown",
      "metadata": {
        "id": "YIFzsH6gT9Il"
      },
      "source": [
        "                                     * When team choose to field after winning toss won more number of matches i.e 56.30%."
      ]
    },
    {
      "cell_type": "markdown",
      "metadata": {
        "id": "BAaBFWfWwxT_"
      },
      "source": [
        "#**8.Toss winning team choose to field or bat?**\n"
      ]
    },
    {
      "cell_type": "code",
      "metadata": {
        "colab": {
          "base_uri": "https://localhost:8080/"
        },
        "id": "hh9gCgpewqw0",
        "outputId": "3fd5756f-efae-41bb-ccc9-4f1ada0e3c6e"
      },
      "source": [
        "#counting toss winners values\n",
        "most_tossWinner  = matches_df['toss_winner'].value_counts()\n",
        "most_tossWinner"
      ],
      "execution_count": null,
      "outputs": [
        {
          "output_type": "execute_result",
          "data": {
            "text/plain": [
              "Mumbai Indians                 98\n",
              "Kolkata Knight Riders          92\n",
              "Chennai Super Kings            89\n",
              "Kings XI Punjab                81\n",
              "Royal Challengers Bangalore    81\n",
              "Delhi Daredevils               80\n",
              "Rajasthan Royals               80\n",
              "Sunrisers Hyderabad            46\n",
              "Deccan Chargers                43\n",
              "Pune Warriors                  20\n",
              "Gujarat Lions                  15\n",
              "Delhi Capitals                 10\n",
              "Kochi Tuskers Kerala            8\n",
              "Rising Pune Supergiants         7\n",
              "Rising Pune Supergiant          6\n",
              "Name: toss_winner, dtype: int64"
            ]
          },
          "metadata": {
            "tags": []
          },
          "execution_count": 73
        }
      ]
    },
    {
      "cell_type": "code",
      "metadata": {
        "colab": {
          "base_uri": "https://localhost:8080/",
          "height": 408
        },
        "id": "SA40jbeUxHq_",
        "outputId": "f1c3bf1f-e7b9-478c-b78f-02f97f536bc2"
      },
      "source": [
        "#visual output.... \n",
        "sns.countplot(y = 'toss_winner', data=matches_df)\n",
        "plt.title('Toss Winner Count for Each teams',fontsize = 30)"
      ],
      "execution_count": null,
      "outputs": [
        {
          "output_type": "execute_result",
          "data": {
            "text/plain": [
              "Text(0.5, 1.0, 'Toss Winner Count for Each teams')"
            ]
          },
          "metadata": {
            "tags": []
          },
          "execution_count": 74
        },
        {
          "output_type": "display_data",
          "data": {
            "image/png": "[encoded data removed]",
            "text/plain": [
              "<Figure size 3600x720 with 1 Axes>"
            ]
          },
          "metadata": {
            "tags": []
          }
        }
      ]
    },
    {
      "cell_type": "code",
      "metadata": {
        "id": "mI3nhdE_xY73"
      },
      "source": [
        "#counting...\n",
        "toss_decision = matches_df['toss_decision'].value_counts().reset_index()\n",
        "Total_matches = toss_decision['toss_decision'].sum()"
      ],
      "execution_count": null,
      "outputs": []
    },
    {
      "cell_type": "code",
      "metadata": {
        "id": "_bKkA4Jbxf26"
      },
      "source": [
        "#calculation\n",
        "field_precentage  =float((toss_decision.loc[toss_decision['index'] == 'field','toss_decision']/Total_matches)*100)\n",
        "bat_precentage  =float((toss_decision.loc[toss_decision['index'] == 'bat','toss_decision']/Total_matches)*100)\n",
        "pos = ['field_precentage','bat_precentage']\n",
        "value = (field_precentage,bat_precentage)"
      ],
      "execution_count": null,
      "outputs": []
    },
    {
      "cell_type": "markdown",
      "metadata": {
        "id": "JShI6ebwNy9B"
      },
      "source": [
        "               * Caluclating the percentage of toss winning team choose bat or field respectively."
      ]
    },
    {
      "cell_type": "code",
      "metadata": {
        "colab": {
          "base_uri": "https://localhost:8080/",
          "height": 575
        },
        "id": "r7uQNz9oyS1j",
        "outputId": "58db92dd-7733-455b-ff67-085817bc91d4"
      },
      "source": [
        "toss_decision_value = np.array(value)\n",
        "\n",
        "mylabel1 = ['field_precentage','bat_precentage']\n",
        "\n",
        "#plt.pie(y, labels = mylabels)\n",
        "myexplode = [0.2, 0]\n",
        "\n",
        "plt.pie(toss_decision_value, labels = mylabel1, explode = myexplode, shadow = True,autopct='%.2f')\n",
        "#plt.legend(title = \"Toss_decision percentage\",loc=\"best\", fontsize=10)\n",
        "plt.show()"
      ],
      "execution_count": null,
      "outputs": [
        {
          "output_type": "display_data",
          "data": {
            "image/png": "[encoded data removed]",
            "text/plain": [
              "<Figure size 3600x720 with 1 Axes>"
            ]
          },
          "metadata": {
            "tags": []
          }
        }
      ]
    },
    {
      "cell_type": "markdown",
      "metadata": {
        "id": "5f4M757PUZrC"
      },
      "source": [
        "                   * Almost 61.24% of the teams choose to field after winning a toss."
      ]
    },
    {
      "cell_type": "markdown",
      "metadata": {
        "id": "LSR2FW_yUMV4"
      },
      "source": [
        "#**CONCLUSION**\n",
        "1. Maximum times when team won the toss, they opt for field first.​\n",
        "2. Team who won the toss and opted for batting have lost a greater number of matches.\n",
        "\n",
        "3. Scoring runs in IPL after season IPL-2013 is been difficult.​\n",
        "\n",
        "4. Mumbai Indian is a team who has scored the maximum time highest runs in all seasons.​\n",
        "\n",
        "5. Lasith Malinga is best bowler in IPL.\n",
        "\n",
        "6. Rising pune Supergiants had the best bowling attack.​\n",
        "\n",
        "7. Chris Gayle has won maximum number of man of the match i.e 6 times in IPL 2011.\n",
        "\n",
        "8. Highest winning margin in terms of runs is 146 runs and in terms of wickets its 10."
      ]
    }
  ]
}